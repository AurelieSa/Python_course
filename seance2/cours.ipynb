{
 "cells": [
  {
   "cell_type": "markdown",
   "id": "e7ea83ad",
   "metadata": {},
   "source": [
    "# Cours n°2"
   ]
  },
  {
   "cell_type": "markdown",
   "id": "a5d74f06",
   "metadata": {},
   "source": [
    "**Objectifs**\n",
    "- Approfondire l'utilisation des fonctions\n",
    "- Approfondire la manipulation du flow d'execution avec les boucles (For, While)"
   ]
  },
  {
   "cell_type": "markdown",
   "id": "35ea450a",
   "metadata": {},
   "source": [
    "## Boucle For"
   ]
  },
  {
   "cell_type": "markdown",
   "id": "2732ce86",
   "metadata": {},
   "source": [
    "La boucle **for** permet d'explorer les différentes valeurs d'un **itérateur**.\n",
    "Un **itérateur** est un objet python qui permet d'explorer rapidement un domaine de valeures (une liste par exemple)"
   ]
  },
  {
   "cell_type": "markdown",
   "id": "694de18e",
   "metadata": {},
   "source": [
    "La boucle **for** est définis comme çi dessous. "
   ]
  },
  {
   "cell_type": "code",
   "execution_count": 1,
   "id": "9e9a803d",
   "metadata": {},
   "outputs": [
    {
     "name": "stdout",
     "output_type": "stream",
     "text": [
      "i = 0\n",
      "i = 1\n",
      "i = 2\n",
      "i = 3\n",
      "i = 4\n",
      "i = 5\n",
      "i = 6\n",
      "i = 7\n",
      "i = 8\n",
      "i = 9\n"
     ]
    }
   ],
   "source": [
    "for i in range(10):\n",
    "  print(f\"i = {i}\")"
   ]
  },
  {
   "cell_type": "markdown",
   "id": "c7898bec",
   "metadata": {},
   "source": [
    "On démarre notre ligne par le mot clé **for**, on définis ensuite une variable (par convention i, j, k) qui va stocké les valeur de notre domaine qu'on va explorer. On utilise ensuite le mot clé **in** pour stipuler que notre variable va itérer dans le domaine, qui lui est définis après le mot clé **in**. Dans cet exmple, on cherche a afficher i allant de $0$ a $9$, pour créer le domaine on utilise la fonction ```range``` qui génère un **itérateur** allant de $0$ à $9$"
   ]
  },
  {
   "cell_type": "code",
   "execution_count": 5,
   "id": "a71b13d6",
   "metadata": {},
   "outputs": [
    {
     "name": "stdout",
     "output_type": "stream",
     "text": [
      "i = 2\n",
      "i = 4\n",
      "i = 6\n",
      "i = 8\n",
      "i = 10\n",
      "i = 12\n",
      "i = 14\n",
      "i = 16\n",
      "i = 18\n",
      "i = 20\n"
     ]
    }
   ],
   "source": [
    "for i in range(2, 20+1, 2):\n",
    "  print(f\"i = {i}\")"
   ]
  },
  {
   "cell_type": "markdown",
   "id": "7aa7fbb4",
   "metadata": {},
   "source": [
    "L'exemple çi deçus est une définis complète de ```range```, le premier argument est la borne inférieur de notre domaine, le second argument la borne **EXCLUT** supérieure et le dernier le pas de notre domaine. Ici, on veut afficher les nombres pairs de $2$ a $20$. Pour inclure $20$ on est obligé d'écrire $20+1$ car la borne supérieure est exclut du domaine"
   ]
  },
  {
   "cell_type": "code",
   "execution_count": 8,
   "id": "f0b654f5",
   "metadata": {},
   "outputs": [
    {
     "name": "stdout",
     "output_type": "stream",
     "text": [
      "i=5\n",
      "i=4\n",
      "i=3\n",
      "i=2\n",
      "i=1\n",
      "i=0\n",
      "i=-1\n",
      "i=-2\n",
      "i=-3\n",
      "i=-4\n",
      "i=-5\n"
     ]
    }
   ],
   "source": [
    "for i in range(5, -5-1, -1):\n",
    "  print(f\"i={i}\")"
   ]
  },
  {
   "cell_type": "markdown",
   "id": "a21c5960",
   "metadata": {},
   "source": [
    "En fixant le step à $-1$ on peut créer un domaine qui va itéré de *start* a *stop* en décrémentant les valeurs."
   ]
  },
  {
   "cell_type": "markdown",
   "id": "f2bedc33",
   "metadata": {},
   "source": [
    "Dans le premier exemple de la boucle **for**, nous n'avons pas définis de *start*, *stop* et *step*. Par défauts, ```range``` considère $step=1$ et $start=0$, si on ne lui donne qu'un seul argument, rangee va comprendre qu'on ne fournis que la borne supérieure du domaine"
   ]
  },
  {
   "cell_type": "markdown",
   "id": "dfe18299",
   "metadata": {},
   "source": [
    "Dans l'exemple qui suit on va exploré les valeurs dans une liste"
   ]
  },
  {
   "cell_type": "code",
   "execution_count": 10,
   "id": "601d6d24",
   "metadata": {},
   "outputs": [],
   "source": [
    "l = [1, 2, 3, 4, 5, 6, 7, 8, 9, 10] # on définis la liste"
   ]
  },
  {
   "cell_type": "code",
   "execution_count": 11,
   "id": "216186d0",
   "metadata": {},
   "outputs": [
    {
     "name": "stdout",
     "output_type": "stream",
     "text": [
      "l[i] = 1\n",
      "l[i] = 2\n",
      "l[i] = 3\n",
      "l[i] = 4\n",
      "l[i] = 5\n",
      "l[i] = 6\n",
      "l[i] = 7\n",
      "l[i] = 8\n",
      "l[i] = 9\n",
      "l[i] = 10\n"
     ]
    }
   ],
   "source": [
    "for i in range(len(l)):\n",
    "  print(f\"l[i] = {l[i]}\")"
   ]
  },
  {
   "cell_type": "markdown",
   "id": "1b6a42b8",
   "metadata": {},
   "source": [
    "Dans cet exemple, on définis un domaine qui commence à $0$ et qui va faire la taille de la liste, retourner par la fonction ```len```"
   ]
  },
  {
   "cell_type": "code",
   "execution_count": 12,
   "id": "b67a7310",
   "metadata": {},
   "outputs": [
    {
     "name": "stdout",
     "output_type": "stream",
     "text": [
      "taille de la liste : 10\n"
     ]
    }
   ],
   "source": [
    "print(f\"taille de la liste : {len(l)}\")"
   ]
  },
  {
   "cell_type": "markdown",
   "id": "dc89deeb",
   "metadata": {},
   "source": [
    "Le problème de cette méthode c'est que c'est assez verbeux, on peut faire mieux"
   ]
  },
  {
   "cell_type": "code",
   "execution_count": 13,
   "id": "1054f716",
   "metadata": {},
   "outputs": [
    {
     "name": "stdout",
     "output_type": "stream",
     "text": [
      "i = 1\n",
      "i = 2\n",
      "i = 3\n",
      "i = 4\n",
      "i = 5\n",
      "i = 6\n",
      "i = 7\n",
      "i = 8\n",
      "i = 9\n",
      "i = 10\n"
     ]
    }
   ],
   "source": [
    "for i in l:\n",
    "  print(f\"i = {i}\")"
   ]
  },
  {
   "cell_type": "markdown",
   "id": "181a8c10",
   "metadata": {},
   "source": [
    "Ici, on utilise *l* directement comme notre domaine. Python va comprendre qu'on va itéré sur cette liste et va créer l'itérateur directement. Sinon in peut créer directement l'itérateur en appellant la *méthode* ```__iter__```, chose que personne ne fait."
   ]
  },
  {
   "cell_type": "code",
   "execution_count": 18,
   "id": "19aab96f",
   "metadata": {},
   "outputs": [
    {
     "name": "stdout",
     "output_type": "stream",
     "text": [
      "iterator = <list_iterator object at 0x7ec0e5d244f0>\n",
      "1\n",
      "2\n",
      "3\n",
      "4\n",
      "5\n",
      "6\n",
      "7\n",
      "8\n",
      "9\n",
      "10\n"
     ]
    }
   ],
   "source": [
    "iterator = l.__iter__()\n",
    "print(f\"iterator = {iterator}\")\n",
    "for i in iterator:\n",
    "  print(i)"
   ]
  },
  {
   "cell_type": "code",
   "execution_count": 21,
   "id": "be95cf5d",
   "metadata": {},
   "outputs": [],
   "source": [
    "l1 = [1, 2, 3]\n",
    "l2 = [1, 4, 5]"
   ]
  },
  {
   "cell_type": "markdown",
   "id": "f2625d25",
   "metadata": {},
   "source": [
    "Cette méthode est intéressante mais seulement si nous n'avons pas besoin de l'index de la valeur. Par exemple si on veut tester si 2 listes les mêmes valeurs, on ne peut pas faire:"
   ]
  },
  {
   "cell_type": "code",
   "execution_count": 20,
   "id": "067c42a3",
   "metadata": {},
   "outputs": [
    {
     "ename": "ValueError",
     "evalue": "too many values to unpack (expected 2)",
     "output_type": "error",
     "traceback": [
      "\u001b[0;31m---------------------------------------------------------------------------\u001b[0m",
      "\u001b[0;31mValueError\u001b[0m                                Traceback (most recent call last)",
      "Cell \u001b[0;32mIn[20], line 1\u001b[0m\n\u001b[0;32m----> 1\u001b[0m \u001b[38;5;28;01mfor\u001b[39;00m i, j \u001b[38;5;129;01min\u001b[39;00m l1, l2:\n\u001b[1;32m      2\u001b[0m   \u001b[38;5;28mprint\u001b[39m(\u001b[38;5;124mf\u001b[39m\u001b[38;5;124m\"\u001b[39m\u001b[38;5;124mi=j : \u001b[39m\u001b[38;5;132;01m{\u001b[39;00mi\u001b[38;5;241m==\u001b[39mj\u001b[38;5;132;01m}\u001b[39;00m\u001b[38;5;124m\"\u001b[39m)\n",
      "\u001b[0;31mValueError\u001b[0m: too many values to unpack (expected 2)"
     ]
    }
   ],
   "source": [
    "for i, j in l1, l2:\n",
    "  print(f\"i=j : {i==j}\")"
   ]
  },
  {
   "cell_type": "code",
   "execution_count": 22,
   "id": "9f5bca9c",
   "metadata": {},
   "outputs": [
    {
     "name": "stdout",
     "output_type": "stream",
     "text": [
      "i==j : True\n",
      "i==j : False\n",
      "i==j : False\n"
     ]
    }
   ],
   "source": [
    "for i in range(len(l1)):\n",
    "  print(f\"i==j : {l1[i]==l2[i]}\")"
   ]
  },
  {
   "cell_type": "markdown",
   "id": "0c2350f0",
   "metadata": {},
   "source": [
    "**quand on manipuler 2 listes dans une boucle for, il faut faire attention que le domaine d'index soit le même pour les 2 listes**"
   ]
  },
  {
   "cell_type": "code",
   "execution_count": 23,
   "id": "80ec8d09",
   "metadata": {},
   "outputs": [],
   "source": [
    "l3 = [1, 2]\n",
    "l4 = [3, 4, 5]"
   ]
  },
  {
   "cell_type": "code",
   "execution_count": 24,
   "id": "6c804a61",
   "metadata": {},
   "outputs": [
    {
     "name": "stdout",
     "output_type": "stream",
     "text": [
      "i==j False\n",
      "i==j False\n"
     ]
    },
    {
     "ename": "IndexError",
     "evalue": "list index out of range",
     "output_type": "error",
     "traceback": [
      "\u001b[0;31m---------------------------------------------------------------------------\u001b[0m",
      "\u001b[0;31mIndexError\u001b[0m                                Traceback (most recent call last)",
      "Cell \u001b[0;32mIn[24], line 2\u001b[0m\n\u001b[1;32m      1\u001b[0m \u001b[38;5;28;01mfor\u001b[39;00m i \u001b[38;5;129;01min\u001b[39;00m \u001b[38;5;28mrange\u001b[39m(\u001b[38;5;28mlen\u001b[39m(l4)):\n\u001b[0;32m----> 2\u001b[0m   \u001b[38;5;28mprint\u001b[39m(\u001b[38;5;124mf\u001b[39m\u001b[38;5;124m\"\u001b[39m\u001b[38;5;124mi==j \u001b[39m\u001b[38;5;132;01m{\u001b[39;00m\u001b[43ml3\u001b[49m\u001b[43m[\u001b[49m\u001b[43mi\u001b[49m\u001b[43m]\u001b[49m\u001b[38;5;241m==\u001b[39ml4[i]\u001b[38;5;132;01m}\u001b[39;00m\u001b[38;5;124m\"\u001b[39m)\n",
      "\u001b[0;31mIndexError\u001b[0m: list index out of range"
     ]
    }
   ],
   "source": [
    "for i in range(len(l4)):\n",
    "  print(f\"i==j {l3[i]==l4[i]}\")"
   ]
  },
  {
   "cell_type": "code",
   "execution_count": 25,
   "id": "b4049aa3",
   "metadata": {},
   "outputs": [
    {
     "name": "stdout",
     "output_type": "stream",
     "text": [
      "i==j False\n",
      "i==j False\n"
     ]
    }
   ],
   "source": [
    "for i in range(len(l3)):\n",
    "  print(f\"i==j {l3[i]==l4[i]}\")"
   ]
  },
  {
   "cell_type": "markdown",
   "id": "55175c05",
   "metadata": {},
   "source": [
    "# Boucle while"
   ]
  },
  {
   "cell_type": "markdown",
   "id": "cfb88b6c",
   "metadata": {},
   "source": [
    "La boucle **for** permet d'explorer les valeurs comprise dans un domaine de définitions et ne s'arrêtera qu'après avoir parcouru le domaine de définis. La boucle **while** s'exécute tant qu'une certaine condition n'est pas respecté, elle peut donc tourner indéfinie.\n",
    "En d'autre mot, la boucle **while** peut se traduire par l'expression suivante : *Tant que cette condition n'est pas respecté, je continue d'excécuté ce code*"
   ]
  },
  {
   "cell_type": "markdown",
   "id": "f573e4f3",
   "metadata": {},
   "source": [
    "La boucle **while** se définis comme tel : ```while some_condition:```"
   ]
  },
  {
   "cell_type": "code",
   "execution_count": 3,
   "id": "f1cc8889",
   "metadata": {},
   "outputs": [
    {
     "name": "stdout",
     "output_type": "stream",
     "text": [
      "i = 0\n",
      "i = 1\n",
      "i = 2\n",
      "i = 3\n",
      "i = 4\n",
      "i = 5\n",
      "i = 6\n",
      "i = 7\n",
      "i = 8\n",
      "i = 9\n",
      "i = 10\n"
     ]
    }
   ],
   "source": [
    "i = 0\n",
    "while i <= 10:\n",
    "  print(f\"i = {i}\")\n",
    "  i += 1 # ultra important sinon on boucle a l'infinie"
   ]
  },
  {
   "cell_type": "markdown",
   "id": "95f3d5e4",
   "metadata": {},
   "source": [
    "Comme pour le ```if```, il est possible de combiner les opérateurs booléen"
   ]
  },
  {
   "cell_type": "code",
   "execution_count": 9,
   "id": "9755537f",
   "metadata": {},
   "outputs": [
    {
     "name": "stdout",
     "output_type": "stream",
     "text": [
      "i = 10, j=0\n",
      "i = 5.0, j=1\n",
      "i = 2.5, j=2\n",
      "i = 1.25, j=3\n",
      "i = 0.625, j=4\n",
      "i = 0.3125, j=5\n",
      "i = 0.15625, j=6\n",
      "i = 0.078125, j=7\n",
      "i = 0.0390625, j=8\n",
      "i = 0.01953125, j=9\n"
     ]
    }
   ],
   "source": [
    "j = 0\n",
    "i = 10\n",
    "while j<10 or i>=5:\n",
    "  print(f\"i = {i}, j={j}\")\n",
    "  j += 1\n",
    "  i /= 2"
   ]
  },
  {
   "cell_type": "markdown",
   "id": "7386436a",
   "metadata": {},
   "source": [
    "Dans cette exemple, une première conditions est respecté, mais on continue la boucle tant la seconde condition (j<10) n'est pas respectée"
   ]
  },
  {
   "cell_type": "markdown",
   "id": "9313f8a9",
   "metadata": {},
   "source": [
    "# Manipulation de l'exécution à l'intérieur d'une boucle"
   ]
  },
  {
   "cell_type": "markdown",
   "id": "42926506",
   "metadata": {},
   "source": [
    "Imaginons que je veuille executé du code uniquement si une condition est respectée, et que dans le cas contraire je veuille passé à la proichaine itération de la boucle. Une première solution est d'utiliser une strucutre if/else maissi le code a passé est long ça peut vite devenir pénible."
   ]
  },
  {
   "cell_type": "code",
   "execution_count": 12,
   "id": "0e436a1a",
   "metadata": {},
   "outputs": [
    {
     "name": "stdout",
     "output_type": "stream",
     "text": [
      "coucou\n",
      "coucou\n",
      "coucou\n",
      "coucou\n",
      "coucou\n",
      "i=5\n",
      "coucou\n",
      "i=6\n",
      "coucou\n",
      "i=7\n",
      "coucou\n",
      "i=8\n",
      "coucou\n",
      "i=9\n",
      "coucou\n"
     ]
    }
   ],
   "source": [
    "for i in range(10):\n",
    "  if i<5:\n",
    "    pass\n",
    "  else:\n",
    "    print(f\"i={i}\")\n",
    "  print(\"coucou\")"
   ]
  },
  {
   "cell_type": "markdown",
   "id": "e8f5dc64",
   "metadata": {},
   "source": [
    "Une autre façon est d'utiliser le mot clé **continue** qui, comme son nom l'indique, dit à python de sauté l'execution du code et de continuer la boucle"
   ]
  },
  {
   "cell_type": "code",
   "execution_count": 14,
   "id": "b3546fa8",
   "metadata": {},
   "outputs": [
    {
     "name": "stdout",
     "output_type": "stream",
     "text": [
      "i=5\n",
      "coucou\n",
      "i=6\n",
      "coucou\n",
      "i=7\n",
      "coucou\n",
      "i=8\n",
      "coucou\n",
      "i=9\n",
      "coucou\n"
     ]
    }
   ],
   "source": [
    "for i in range(10):\n",
    "  if i<5:\n",
    "    continue\n",
    "  else:\n",
    "    print(f\"i={i}\")\n",
    "  print(\"coucou\")"
   ]
  },
  {
   "cell_type": "markdown",
   "id": "fc51e2c1",
   "metadata": {},
   "source": [
    "Dans le style opposé, on a **break**. Break interrompt la boucle prématurément"
   ]
  },
  {
   "cell_type": "code",
   "execution_count": 15,
   "id": "1af5f0e2",
   "metadata": {},
   "outputs": [
    {
     "name": "stdout",
     "output_type": "stream",
     "text": [
      "2\n",
      "4\n",
      "6\n"
     ]
    }
   ],
   "source": [
    "l = [2, 4, 6, 7, 8, 10]\n",
    "\n",
    "for i in l:\n",
    "  if i%2!=0:\n",
    "    break\n",
    "\n",
    "  print(i)"
   ]
  },
  {
   "cell_type": "markdown",
   "id": "8bb75ca5",
   "metadata": {},
   "source": [
    "Dance ce code, on souhaite afficher les nombre paire et arrêter la boucle si on rencontre un nombre impaire, je détecte donc le nombre impaire avec la ligne ```if i%2!=0``` puis j'utiliser le mot clé **break** pour arrêter la boucle avant la fin de la boucle for.\n",
    "A noté qu'en générale, la condition qui nous mène au break est écrite comme la négation d'un condition. L'idée est de signaler au lecteur du code que *Si cette condition n'est pas respecté, je stop tout*"
   ]
  },
  {
   "cell_type": "markdown",
   "id": "a7d1fc18",
   "metadata": {},
   "source": []
  }
 ],
 "metadata": {
  "kernelspec": {
   "display_name": "Python 3",
   "language": "python",
   "name": "python3"
  },
  "language_info": {
   "codemirror_mode": {
    "name": "ipython",
    "version": 3
   },
   "file_extension": ".py",
   "mimetype": "text/x-python",
   "name": "python",
   "nbconvert_exporter": "python",
   "pygments_lexer": "ipython3",
   "version": "3.10.12"
  }
 },
 "nbformat": 4,
 "nbformat_minor": 5
}
