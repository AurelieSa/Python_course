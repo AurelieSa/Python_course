{
 "cells": [
  {
   "cell_type": "code",
   "execution_count": 1,
   "id": "57e6e8aa",
   "metadata": {},
   "outputs": [],
   "source": [
    "import random"
   ]
  },
  {
   "cell_type": "markdown",
   "id": "df64b48c",
   "metadata": {},
   "source": [
    "# Exercice"
   ]
  },
  {
   "cell_type": "markdown",
   "id": "c30bbcc4",
   "metadata": {},
   "source": [
    "On décide de compter si le taux de globule rouge d'un patient est inférieur a un certains taux. Si un patient a un taux de globule rouge inférieur a un seuile critique, on arrête tout et on signale l'utilisateur du programme qu'une patien a un taux critique."
   ]
  },
  {
   "cell_type": "code",
   "execution_count": 2,
   "id": "bb4c5406",
   "metadata": {},
   "outputs": [],
   "source": [
    "data = [round(random.uniform(3.5, 6.0), 2) for _ in range(100)]"
   ]
  },
  {
   "cell_type": "code",
   "execution_count": null,
   "id": "1cab658c",
   "metadata": {},
   "outputs": [],
   "source": [
    "def check_blood(data, avg_th, crit_th):\n",
    "  n_patient = 0\n",
    "  raise NotImplementedError()"
   ]
  },
  {
   "cell_type": "code",
   "execution_count": 4,
   "id": "ef0ac29b",
   "metadata": {},
   "outputs": [
    {
     "ename": "NotImplementedError",
     "evalue": "",
     "output_type": "error",
     "traceback": [
      "\u001b[0;31m---------------------------------------------------------------------------\u001b[0m",
      "\u001b[0;31mNotImplementedError\u001b[0m                       Traceback (most recent call last)",
      "Cell \u001b[0;32mIn[4], line 1\u001b[0m\n\u001b[0;32m----> 1\u001b[0m \u001b[43mcheck_blood\u001b[49m\u001b[43m(\u001b[49m\u001b[43mdata\u001b[49m\u001b[43m,\u001b[49m\u001b[43m \u001b[49m\u001b[38;5;241;43m4.5\u001b[39;49m\u001b[43m,\u001b[49m\u001b[43m \u001b[49m\u001b[38;5;241;43m3.9\u001b[39;49m\u001b[43m)\u001b[49m\n",
      "Cell \u001b[0;32mIn[3], line 2\u001b[0m, in \u001b[0;36mcheck_blood\u001b[0;34m(data, avg_th, crit_th)\u001b[0m\n\u001b[1;32m      1\u001b[0m \u001b[38;5;28;01mdef\u001b[39;00m \u001b[38;5;21mcheck_blood\u001b[39m(data, avg_th, crit_th):\n\u001b[0;32m----> 2\u001b[0m   \u001b[38;5;28;01mraise\u001b[39;00m \u001b[38;5;167;01mNotImplementedError\u001b[39;00m()\n",
      "\u001b[0;31mNotImplementedError\u001b[0m: "
     ]
    }
   ],
   "source": [
    "check_blood(data, 4.5, 3.9)"
   ]
  },
  {
   "cell_type": "markdown",
   "id": "278fb533",
   "metadata": {},
   "source": [
    "# Projet : Jeu de la vie"
   ]
  },
  {
   "cell_type": "markdown",
   "id": "1e9877a0",
   "metadata": {},
   "source": [
    "Le jeu de la vie est un automate cellulaire créer par John Conway (mathématicien de géni). L'objectif est Conway était de montré qu'un système régis par des règle simple peut engendré des comportements complexe."
   ]
  },
  {
   "cell_type": "markdown",
   "id": "adfa3c31",
   "metadata": {},
   "source": [
    "Le jeu se déroule sur une grille (dans notre cas carré) ou chaque case peut prendre 2 valeur 0 (morte) ou 1 (vivante).\n",
    "Pour chaque case, on va determiné le nombre de voisin (case adjacente) a 1.\n",
    "Une fois le nombre de voisin déterminé on applique les règle de conway : \n",
    "- Si une case a **excatement** 3 case voisine vivante (à 1), alors la case sera vivant\n",
    "- Si une case a 2 voisins vivant, elle ne change pas d'état\n",
    "- Si un case a moins de 2 ou stricement plus de 3 voisins, elle meurt"
   ]
  },
  {
   "cell_type": "markdown",
   "id": "fefdb7ff",
   "metadata": {},
   "source": [
    "Pour plus d'info : https://fr.wikipedia.org/wiki/Jeu_de_la_vie"
   ]
  },
  {
   "cell_type": "markdown",
   "id": "013ea3d6",
   "metadata": {},
   "source": [
    "Du code est déjà fournis dans `game_of_life.py` pour créer une grille aléatoire et afficher la grille. "
   ]
  },
  {
   "cell_type": "markdown",
   "id": "05e89169",
   "metadata": {},
   "source": [
    "Dans un premier temps, nous allons codé une fonction check_born qui renvoie ```True``` si une valeur x est comprise dans l'intervalle `[b_inf; b_sup[`"
   ]
  },
  {
   "cell_type": "markdown",
   "id": "0181ff98",
   "metadata": {},
   "source": [
    "Pour la fonction d'update de la grille nous allons procédé étape par étapes : \n",
    "1. Parcours les cases de la grille est afficher l'état des cases\n",
    "2. Pour chaque case de la grille, compter le nombre de voisins\n",
    "3. Implémenter les règles de conway"
   ]
  },
  {
   "cell_type": "markdown",
   "id": "3efcb4a1",
   "metadata": {},
   "source": []
  }
 ],
 "metadata": {
  "kernelspec": {
   "display_name": "Python 3",
   "language": "python",
   "name": "python3"
  },
  "language_info": {
   "codemirror_mode": {
    "name": "ipython",
    "version": 3
   },
   "file_extension": ".py",
   "mimetype": "text/x-python",
   "name": "python",
   "nbconvert_exporter": "python",
   "pygments_lexer": "ipython3",
   "version": "3.10.12"
  }
 },
 "nbformat": 4,
 "nbformat_minor": 5
}
