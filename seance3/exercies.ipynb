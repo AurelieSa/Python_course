{
 "cells": [
  {
   "cell_type": "code",
   "execution_count": null,
   "id": "80deee01",
   "metadata": {},
   "outputs": [],
   "source": [
    "from math import sqrt\n",
    "from corrections import *\n",
    "from random import randint, uniform\n",
    "import numpy as np\n",
    "import matplotlib.pyplot as plt"
   ]
  },
  {
   "cell_type": "markdown",
   "id": "57701146",
   "metadata": {},
   "source": [
    "# Exercices"
   ]
  },
  {
   "cell_type": "markdown",
   "id": "4d502d7b",
   "metadata": {},
   "source": [
    "## Exercice 1 : valeures remarquable"
   ]
  },
  {
   "cell_type": "markdown",
   "id": "0a7d9459",
   "metadata": {},
   "source": [
    "Dans cet execercice, on souhaite créer 3 fonctions qui retourne des valeures remarquables d'une liste:\n",
    "- La valeur minimale\n",
    "- La valeur maximale\n",
    "- La valeur moyenne"
   ]
  },
  {
   "cell_type": "code",
   "execution_count": null,
   "id": "26c3c50a",
   "metadata": {},
   "outputs": [],
   "source": [
    "l = [randint(10, 100) for _ in range(randint(100, 1000))]"
   ]
  },
  {
   "cell_type": "code",
   "execution_count": null,
   "id": "6bf3d049",
   "metadata": {},
   "outputs": [],
   "source": [
    "def list_min(l):\n",
    "  \"\"\"TODO\"\"\""
   ]
  },
  {
   "cell_type": "code",
   "execution_count": null,
   "id": "47073aad",
   "metadata": {},
   "outputs": [],
   "source": [
    "if list_min(l) == correction_min(l):\n",
    "  print(\"Perfect\")\n",
    "else:\n",
    "  raise Exception(\"Function min verfication failed\")"
   ]
  },
  {
   "cell_type": "code",
   "execution_count": null,
   "id": "517e331c",
   "metadata": {},
   "outputs": [],
   "source": [
    "def list_max(l):\n",
    "  \"\"\"TODO\"\"\""
   ]
  },
  {
   "cell_type": "code",
   "execution_count": null,
   "id": "6f39d479",
   "metadata": {},
   "outputs": [],
   "source": [
    "if list_max(l) == correction_max(l):\n",
    "  print(\"Perfect\")\n",
    "else:\n",
    "  raise Exception(\"Function max verfication failed\")"
   ]
  },
  {
   "cell_type": "code",
   "execution_count": null,
   "id": "84ba4044",
   "metadata": {},
   "outputs": [],
   "source": [
    "def list_avg(l):\n",
    "  \"\"\"TODO\"\"\""
   ]
  },
  {
   "cell_type": "code",
   "execution_count": null,
   "id": "5a449409",
   "metadata": {},
   "outputs": [],
   "source": [
    "if list_avg(l) == correction_avg(l):\n",
    "  print(\"Perfect\")\n",
    "else:\n",
    "  raise Exception(\"Function avg verfication failed\")"
   ]
  },
  {
   "cell_type": "markdown",
   "id": "772fcf60",
   "metadata": {},
   "source": [
    "## Exercie 2 : map, all, any"
   ]
  },
  {
   "cell_type": "markdown",
   "id": "cf430bfe",
   "metadata": {},
   "source": [
    "Dans cet exercice, on se propose de recoder les célèbres fonction map, all et any\n",
    "- ```map(list, func)``` est une fonction qui prends une liste et une fonction et qui applique la fonction a tous les éléments de la liste. Dans notre cas, elle va retourner une liste avec les valeure calculées\n",
    "- ```any(list, func)``` est une fonction qui prends une liste est une fonction. La fonction func doit retourner True ou False et la fonction any retourn True si au moins 1 élement *e* de la liste vérifie ```func(e)```\n",
    "- ```all(list, func)``` est une fonciton similaire a any mais qui renvoie True uniquement si **tous** les éléments de la liste vérifie la condition fixé par ```func``` "
   ]
  },
  {
   "cell_type": "code",
   "execution_count": null,
   "id": "aa03d3ea",
   "metadata": {},
   "outputs": [],
   "source": [
    "def pow_2(v):\n",
    "  return v**2\n",
    "\n",
    "def is_sup_10(v):\n",
    "  return v>10\n",
    "\n",
    "def is_perfect_pow(v):\n",
    "  int(sqrt(v))**2==v"
   ]
  },
  {
   "cell_type": "markdown",
   "id": "86b6029e",
   "metadata": {},
   "source": [
    "### MAP"
   ]
  },
  {
   "cell_type": "code",
   "execution_count": null,
   "id": "d948fd50",
   "metadata": {},
   "outputs": [],
   "source": [
    "def map(l, op):\n",
    "  \"\"\"TODO\"\"\""
   ]
  },
  {
   "cell_type": "code",
   "execution_count": null,
   "id": "3495b833",
   "metadata": {},
   "outputs": [],
   "source": [
    "l = [randint(0, 100) for _ in range(randint(100, 1000))]"
   ]
  },
  {
   "cell_type": "markdown",
   "id": "16aa1e73",
   "metadata": {},
   "source": []
  },
  {
   "cell_type": "code",
   "execution_count": null,
   "id": "05a8ece8",
   "metadata": {},
   "outputs": [],
   "source": [
    "map(l ,pow_2) == correcion_map(l, pow_2)"
   ]
  },
  {
   "cell_type": "markdown",
   "id": "bad6b4ab",
   "metadata": {},
   "source": [
    "### Any"
   ]
  },
  {
   "cell_type": "code",
   "execution_count": null,
   "id": "7fb2bce7",
   "metadata": {},
   "outputs": [],
   "source": [
    "def any(l, op):\n",
    "  \"\"\"TODO\"\"\""
   ]
  },
  {
   "cell_type": "code",
   "execution_count": null,
   "id": "eb329087",
   "metadata": {},
   "outputs": [],
   "source": [
    "l = [randint(11, 100) for _ in range(100)]\n",
    "\n",
    "if any(l, is_sup_10):\n",
    "  raise Exception(\"Any return True, but waiting for False\")\n",
    "\n",
    "l = [randint(0, 100) for _ in range(100)]\n",
    "l[99] = 0\n",
    "\n",
    "if not any(l, is_sup_10):\n",
    "  raise Exception(\"Any return False, but waiting for True\")"
   ]
  },
  {
   "cell_type": "markdown",
   "id": "b5fb507d",
   "metadata": {},
   "source": [
    "### All"
   ]
  },
  {
   "cell_type": "code",
   "execution_count": null,
   "id": "87cf6e3e",
   "metadata": {},
   "outputs": [],
   "source": [
    "def all(l, op):\n",
    "  \"\"\"TODO\"\"\""
   ]
  },
  {
   "cell_type": "code",
   "execution_count": null,
   "id": "2016bcfd",
   "metadata": {},
   "outputs": [],
   "source": [
    "l = [randint(0, 100)**2 if i<50 else randint(0, 100)+1 for i in range(100)]\n",
    "\n",
    "if all(l, is_perfect_pow):\n",
    "  raise Exception(\"Any return True, but waiting for False\")\n",
    "\n",
    "l = l = [randint(0, 100)**2 for i in range(100)]\n",
    "\n",
    "if not all(l, is_perfect_pow):\n",
    "  raise Exception(\"Any return False, but waiting for True\")"
   ]
  },
  {
   "cell_type": "markdown",
   "id": "65a4fe34",
   "metadata": {},
   "source": [
    "## Exercice n°3 : Trie d'une liste"
   ]
  },
  {
   "cell_type": "markdown",
   "id": "60f809d9",
   "metadata": {},
   "source": [
    "Dans cet exercice, on va développé l'algorithme de trie naif à 2 listes.\n",
    "Dans l'implémentation normale du trie naif, on travail directement sur la liste que l'on veut triée, pour simplifier l'exercice, on va travaillé sur une autre liste pour simplifiée la manipulation de la boucle. Voici comment on trie une liste :"
   ]
  },
  {
   "cell_type": "markdown",
   "id": "611c08d0",
   "metadata": {},
   "source": [
    "- On cherche l'indice de la valeur minimale de la liste non trié\n",
    "- On ajoute la valeur correspondante dans la liste trié\n",
    "- On supprime la valeur de la liste non trié\n",
    "- On répète les opérations 1 2 et 3 tant que la liste non trié n'est pas vide"
   ]
  },
  {
   "cell_type": "markdown",
   "id": "eefa8e41",
   "metadata": {},
   "source": [
    "Pour supprimé une valeure d'une liste a partir de son index on utilise pop"
   ]
  },
  {
   "cell_type": "code",
   "execution_count": null,
   "id": "bbfd642b",
   "metadata": {},
   "outputs": [],
   "source": [
    "l = [1, 2, 3, 4]\n",
    "print(l)\n",
    "l.pop(1)\n",
    "print(l)"
   ]
  },
  {
   "cell_type": "markdown",
   "id": "920c65f1",
   "metadata": {},
   "source": [
    "Dans un premier temps, on va créer une fonction qui retourne l'indice de l'élément le plus petit d'une liste"
   ]
  },
  {
   "cell_type": "code",
   "execution_count": null,
   "id": "bcabe703",
   "metadata": {},
   "outputs": [],
   "source": [
    "def min_index(l):\n",
    "  \"\"\"TODO\"\"\""
   ]
  },
  {
   "cell_type": "code",
   "execution_count": null,
   "id": "105d1494",
   "metadata": {},
   "outputs": [],
   "source": [
    "l = [randint(0, 100) for _ in range(randint(100, 10000))]\n",
    "\n",
    "if l[min_index(l)] == list_min(l):\n",
    "  print(\"Ok\")\n",
    "else:\n",
    "  raise Exception(\"Min_index failed\")"
   ]
  },
  {
   "cell_type": "markdown",
   "id": "d927d9cd",
   "metadata": {},
   "source": [
    "On peut maintenant trié notre liste"
   ]
  },
  {
   "cell_type": "code",
   "execution_count": null,
   "id": "f7a6a32b",
   "metadata": {},
   "outputs": [],
   "source": [
    "def sort(l):\n",
    "  \"\"\"TODO\"\"\""
   ]
  },
  {
   "cell_type": "code",
   "execution_count": null,
   "id": "39b84293",
   "metadata": {},
   "outputs": [],
   "source": [
    "l = [randint(-100, 100) for _ in range(randint(100, 1000))]"
   ]
  },
  {
   "cell_type": "code",
   "execution_count": null,
   "id": "828afa74",
   "metadata": {},
   "outputs": [],
   "source": [
    "if correction_sort(l.copy()) == sort(l.copy()):\n",
    "  print(\"Ok\")\n",
    "else:\n",
    "  raise Exception(\"Sort Failed\")"
   ]
  },
  {
   "cell_type": "markdown",
   "id": "7dbd0fb9",
   "metadata": {},
   "source": [
    "On veut améliorer notre fonction de sort pour choisir si on trie notre fonction du plus petit au plus grand ou bien l'inverse. On va donc créer une version sort avec une fonction d'ordre supérieur"
   ]
  },
  {
   "cell_type": "code",
   "execution_count": null,
   "id": "470e7f1a",
   "metadata": {},
   "outputs": [],
   "source": [
    "def sort_gen(l, op):\n",
    "  \"\"\"TODO\"\"\""
   ]
  },
  {
   "cell_type": "code",
   "execution_count": null,
   "id": "55130bba",
   "metadata": {},
   "outputs": [],
   "source": [
    "if correction_sort_gen(l.copy(), min_index) == sort_gen(l.copy(), min_index):\n",
    "  print(\"Ok\")\n",
    "else:\n",
    "  raise Exception(\"Sort Failed\")\n",
    "\n",
    "if correction_sort_gen(l.copy(), correction_max_index) == sort_gen(l.copy(), correction_max_index):\n",
    "  print(\"Ok\")\n",
    "else:\n",
    "  raise Exception(\"Sort Failed\")"
   ]
  },
  {
   "cell_type": "markdown",
   "id": "7a45cd0e",
   "metadata": {},
   "source": []
  },
  {
   "cell_type": "markdown",
   "id": "8fd24728",
   "metadata": {},
   "source": [
    "## Exercice n°4 : Dictionnaire"
   ]
  },
  {
   "cell_type": "markdown",
   "id": "bbe8d8bf",
   "metadata": {},
   "source": [
    "On souhaite afficher la distribution des valeurs d'une liste. Pour cela, il faut au préalable compter la fréquence d'apparition de chaque valeur dans la liste. Pour cela, on va utilisé un dictionnaire ou chaque clé du dictionnaire représente une valeur possible et, associé a cette clé, sa fréquence d'apparition."
   ]
  },
  {
   "cell_type": "markdown",
   "id": "f7a9c5a1",
   "metadata": {},
   "source": [
    "Pour vérifier si une valeur est dans une liste, on utilise le mot clé ```in```"
   ]
  },
  {
   "cell_type": "code",
   "execution_count": null,
   "id": "8848b725",
   "metadata": {},
   "outputs": [],
   "source": [
    "print(5 in [1, 2, 3, 4])\n",
    "print(2 in [1, 2, 3, 4])"
   ]
  },
  {
   "cell_type": "code",
   "execution_count": null,
   "id": "a78a66c1",
   "metadata": {},
   "outputs": [],
   "source": [
    "def distribution(l):\n",
    "  dic = {}\n",
    "\n",
    "  \"\"\"TODO\"\"\""
   ]
  },
  {
   "cell_type": "code",
   "execution_count": null,
   "id": "62f4898a",
   "metadata": {},
   "outputs": [],
   "source": [
    "l = np.random.normal(loc=10, scale=5, size=10000).tolist()\n",
    "l = [int(i) for i in l]"
   ]
  },
  {
   "cell_type": "code",
   "execution_count": null,
   "id": "4318072c",
   "metadata": {},
   "outputs": [],
   "source": [
    "dist = distribution(l)\n",
    "dist_cor = correction_distribution(l)"
   ]
  },
  {
   "cell_type": "code",
   "execution_count": null,
   "id": "369c9d77",
   "metadata": {},
   "outputs": [],
   "source": [
    "x = dist.keys()\n",
    "y = [dist[i] for i in dist]\n",
    "\n",
    "x_corr = dist_cor.keys()\n",
    "y_corr = [dist_cor[i] for i in dist_cor]\n",
    "\n",
    "plt.scatter(x_corr, y_corr, label=\"Correction\")\n",
    "plt.scatter(x, y, label=\"Exercice\")"
   ]
  }
 ],
 "metadata": {
  "kernelspec": {
   "display_name": "Python 3",
   "language": "python",
   "name": "python3"
  },
  "language_info": {
   "codemirror_mode": {
    "name": "ipython",
    "version": 3
   },
   "file_extension": ".py",
   "mimetype": "text/x-python",
   "name": "python",
   "nbconvert_exporter": "python",
   "pygments_lexer": "ipython3",
   "version": "3.10.12"
  }
 },
 "nbformat": 4,
 "nbformat_minor": 5
}
