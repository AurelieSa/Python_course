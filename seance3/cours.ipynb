{
 "cells": [
  {
   "cell_type": "markdown",
   "id": "fdb91da0",
   "metadata": {},
   "source": [
    "# Manipulation de Liste"
   ]
  },
  {
   "cell_type": "markdown",
   "id": "d6f2a55e",
   "metadata": {},
   "source": [
    "Objetfis:\n",
    "- Manipulation de listes\n",
    "- Fonctions d'orde supérieur\n",
    "- Dictionnaire"
   ]
  },
  {
   "cell_type": "markdown",
   "id": "f2666653",
   "metadata": {},
   "source": [
    "## Manipulation de Listes"
   ]
  },
  {
   "cell_type": "markdown",
   "id": "b1f67774",
   "metadata": {},
   "source": [
    "### Introduction"
   ]
  },
  {
   "cell_type": "markdown",
   "id": "a9702ad1",
   "metadata": {},
   "source": [
    "Les listes sont des objets python qui permettent de stocké une collections (pour pas dire listes) de données. En python, les listes ne sont pas forcément **homogène**"
   ]
  },
  {
   "cell_type": "code",
   "execution_count": null,
   "id": "e4c124ea",
   "metadata": {},
   "outputs": [],
   "source": [
    "def foo():\n",
    "  print(\"foo\")"
   ]
  },
  {
   "cell_type": "code",
   "execution_count": null,
   "id": "dafa2e85",
   "metadata": {},
   "outputs": [],
   "source": [
    "l = ['a', 1, 3.14, \"coucou\", [7, 8.1], foo]"
   ]
  },
  {
   "cell_type": "code",
   "execution_count": null,
   "id": "92cf2858",
   "metadata": {},
   "outputs": [],
   "source": [
    "print(l)"
   ]
  },
  {
   "cell_type": "markdown",
   "id": "53c8728a",
   "metadata": {},
   "source": [
    "Cependant, par convention, on cconsièdre toujours les listes comme des ensembles **homogène**, c'est-à-dire où toutes les valeurs stocké dans listes sont identiques"
   ]
  },
  {
   "cell_type": "code",
   "execution_count": null,
   "id": "8299a9ab",
   "metadata": {},
   "outputs": [],
   "source": [
    "l_homogene = [1.1, 2.2, 3.3, 4.4]       # liste homogène remplis de , facile a manipulé\n",
    "l_non_homogene = [1, 2.2, \"3.3\", [4.4]] # liste non homogène remplis de plein de truc, trop dur a manipuler"
   ]
  },
  {
   "cell_type": "markdown",
   "id": "0d9e0a83",
   "metadata": {},
   "source": [
    "L'avantage des listes homogène est leur simplicité de manipulation, étant donnée qu'on connais déjà le type de toute les données, on a pas besoin de se poser plus de questions sur d'éventuelles procédures de vérification de type, ou manipulation de données.\n",
    "Par convention, on considère les listes comme homogènes : **Le fournisseur de la liste s'assure que la liste soit homogène**"
   ]
  },
  {
   "cell_type": "code",
   "execution_count": null,
   "id": "8fb38dfe",
   "metadata": {},
   "outputs": [],
   "source": [
    "def gen_homo(): # bien\n",
    "  return [1, 2, 3]\n",
    "\n",
    "def gen_hetero(): # pas bien\n",
    "  return [1, 2.0, \"3\"]"
   ]
  },
  {
   "cell_type": "markdown",
   "id": "cac055b1",
   "metadata": {},
   "source": [
    "### Création de listes"
   ]
  },
  {
   "cell_type": "markdown",
   "id": "9336e579",
   "metadata": {},
   "source": [
    "On a 3 grande manière de créer une liste : \n",
    "1. A la main\n",
    "2. A partir d'une liste vide\n",
    "3. En Compréhension"
   ]
  },
  {
   "cell_type": "markdown",
   "id": "58c35ef0",
   "metadata": {},
   "source": [
    "La méthode *à la main* est celle qu'on utilise depuis le début. Très rarement utilisé a part pour faire des petits tests"
   ]
  },
  {
   "cell_type": "code",
   "execution_count": null,
   "id": "2aa26f80",
   "metadata": {},
   "outputs": [],
   "source": [
    "l1 = [1, 2, 3, 4] # création à la main"
   ]
  },
  {
   "cell_type": "markdown",
   "id": "b7fe6d19",
   "metadata": {},
   "source": [
    "La méthode *à partir d'une liste vide* est plus intéressante. Elle permet de généré une liste a partir des résultats d'éxécutions de code. \n",
    "On créer d'abord une liste vide, puis on utilise la méthode ```append``` qui permet d'ajouter une valeure dans une liste."
   ]
  },
  {
   "cell_type": "code",
   "execution_count": null,
   "id": "aa431a50",
   "metadata": {},
   "outputs": [],
   "source": [
    "l2 = [] # on part d'une liste vide\n",
    "for i in range(1, 5):\n",
    "  l2.append(i)  # on ajoutes les éléments 1 par 1 dans la liste avec append"
   ]
  },
  {
   "cell_type": "markdown",
   "id": "ecf23d48",
   "metadata": {},
   "source": [
    "La méthode de création *en compréhension* (comprehension list en anglais) est une méthode de création de liste compacte qui permet de généré des **patterns**.\n",
    "On commance par créer une liste avec [], puis on génère les valeures a partir d'un itérateur"
   ]
  },
  {
   "cell_type": "code",
   "execution_count": null,
   "id": "4ce2e37f",
   "metadata": {},
   "outputs": [],
   "source": [
    "l3 = [i for i in range(1, 5)] "
   ]
  },
  {
   "cell_type": "markdown",
   "id": "5b56782b",
   "metadata": {},
   "source": [
    "Chaque méthode à ses avantages :\n",
    "- A la main : rapide pour peu de donnée mais limité\n",
    "- A partir d'une liste vide : Très utile si les valeurs que la liste doit stockée dépendent de l'exécution d'un autre code (temps d'exe, valeure de retour d'une fonction).\n",
    "- En compréhension : Très utile si on veut généré une liste qui vérifie un certain patterne"
   ]
  },
  {
   "cell_type": "code",
   "execution_count": null,
   "id": "b91466bf",
   "metadata": {},
   "outputs": [],
   "source": [
    "l1 = [1, 4, 9, 16]"
   ]
  },
  {
   "cell_type": "code",
   "execution_count": null,
   "id": "a5fe8bcc",
   "metadata": {},
   "outputs": [],
   "source": [
    "l2 = []\n",
    "for i in range(1, 5):\n",
    "  l2.append(i**2)"
   ]
  },
  {
   "cell_type": "code",
   "execution_count": null,
   "id": "7b423968",
   "metadata": {},
   "outputs": [],
   "source": [
    "l3 = [i*i for i in range(1, 5)]"
   ]
  },
  {
   "cell_type": "code",
   "execution_count": null,
   "id": "491bfcf6",
   "metadata": {},
   "outputs": [],
   "source": [
    "print(l1==l2)\n",
    "print(l2==l3)"
   ]
  },
  {
   "cell_type": "markdown",
   "id": "bcd6d92d",
   "metadata": {},
   "source": [
    "### Lecture des listes"
   ]
  },
  {
   "cell_type": "markdown",
   "id": "cc97a9de",
   "metadata": {},
   "source": [
    "Dans cette partie, nous allons nous intéresser aux différentes méthodes de lecture d'une liste.\n",
    "La première méthode est la lecture d'une valeur a partir de son indice dans la liste"
   ]
  },
  {
   "cell_type": "code",
   "execution_count": 1,
   "id": "2fa0f061",
   "metadata": {},
   "outputs": [],
   "source": [
    "l = [i for i in range(20)]"
   ]
  },
  {
   "cell_type": "code",
   "execution_count": 4,
   "id": "060cdd66",
   "metadata": {},
   "outputs": [
    {
     "name": "stdout",
     "output_type": "stream",
     "text": [
      "[0, 1, 2, 3, 4, 5, 6, 7, 8, 9, 10, 11, 12, 13, 14, 15, 16, 17, 18, 19]\n"
     ]
    }
   ],
   "source": [
    "print(l)"
   ]
  },
  {
   "cell_type": "code",
   "execution_count": 2,
   "id": "aaf5ada8",
   "metadata": {},
   "outputs": [
    {
     "name": "stdout",
     "output_type": "stream",
     "text": [
      "l[3] = 3\n"
     ]
    }
   ],
   "source": [
    "print(f\"l[3] = {l[3]}\")"
   ]
  },
  {
   "cell_type": "markdown",
   "id": "71d2017b",
   "metadata": {},
   "source": [
    "Il est possible d'indéxé une liste avec des nombre négatifs, la valeur retourné sera alors l'indice en partant de la fin de la liste. Cette méthode peut être utile si on souhaite accédé aux derniers éléments d'une liste, par exemple au dernier élément ajouter."
   ]
  },
  {
   "cell_type": "code",
   "execution_count": 3,
   "id": "d38f6818",
   "metadata": {},
   "outputs": [
    {
     "name": "stdout",
     "output_type": "stream",
     "text": [
      "l[-1] = 19\n"
     ]
    }
   ],
   "source": [
    "print(f\"l[-1] = {l[-1]}\")"
   ]
  },
  {
   "cell_type": "markdown",
   "id": "2811bf75",
   "metadata": {},
   "source": [
    "Pour afficher une liste à l'envers, on a donc 2 méthodes différentes:\n",
    "1. lire avec des indices positifs allant du dernier élément au premier\n",
    "2. lire avec des indice négatifs"
   ]
  },
  {
   "cell_type": "code",
   "execution_count": 6,
   "id": "0d000ee4",
   "metadata": {},
   "outputs": [
    {
     "name": "stdout",
     "output_type": "stream",
     "text": [
      "19 18 17 16 15 14 13 12 11 10 9 8 7 6 5 4 3 2 1 0 "
     ]
    }
   ],
   "source": [
    "for i in range(19, -1, -1):\n",
    "  print(l[i], end=\" \")"
   ]
  },
  {
   "cell_type": "code",
   "execution_count": 8,
   "id": "f5ba4059",
   "metadata": {},
   "outputs": [
    {
     "name": "stdout",
     "output_type": "stream",
     "text": [
      "19 18 17 16 15 14 13 12 11 10 9 8 7 6 5 4 3 2 1 0 "
     ]
    }
   ],
   "source": [
    "for i in range(-1, -21, -1):\n",
    "  print(l[i], end=\" \")"
   ]
  },
  {
   "cell_type": "markdown",
   "id": "41c07f5d",
   "metadata": {},
   "source": [
    "Pour lire plusieurs valeure d'une liste, une méthode naïve serait la suivante : "
   ]
  },
  {
   "cell_type": "code",
   "execution_count": 9,
   "id": "3cc1e531",
   "metadata": {},
   "outputs": [
    {
     "name": "stdout",
     "output_type": "stream",
     "text": [
      "[3, 4, 5]\n"
     ]
    }
   ],
   "source": [
    "l_sub = []\n",
    "for i in range(3, 6):\n",
    "  l_sub.append(l[i])\n",
    "print(l_sub)"
   ]
  },
  {
   "cell_type": "markdown",
   "id": "0d50b1c9",
   "metadata": {},
   "source": [
    "C'est long et fastidieux, python permet de simplifier cet opération avec les ```:```"
   ]
  },
  {
   "cell_type": "code",
   "execution_count": 10,
   "id": "3bbd84df",
   "metadata": {},
   "outputs": [
    {
     "name": "stdout",
     "output_type": "stream",
     "text": [
      "[3, 4, 5]\n"
     ]
    }
   ],
   "source": [
    "l_sub = l[3:6]\n",
    "print(l_sub)"
   ]
  },
  {
   "cell_type": "markdown",
   "id": "ddcc43dc",
   "metadata": {},
   "source": [
    "Pour une lecture ```list[a:b]```, python va reetourner les valeurs dont les indices sont compris dans l'interval $[a;b[$ ssi $a<b$ "
   ]
  },
  {
   "cell_type": "code",
   "execution_count": 12,
   "id": "2c0c4500",
   "metadata": {},
   "outputs": [
    {
     "name": "stdout",
     "output_type": "stream",
     "text": [
      "[]\n"
     ]
    }
   ],
   "source": [
    "l_sub_rev = l[5:2]\n",
    "print(l_sub_rev)"
   ]
  },
  {
   "cell_type": "code",
   "execution_count": 13,
   "id": "3878ba46",
   "metadata": {},
   "outputs": [
    {
     "name": "stdout",
     "output_type": "stream",
     "text": [
      "[]\n"
     ]
    }
   ],
   "source": [
    "l_sub_eq = l[2:2]\n",
    "print(l_sub_eq)"
   ]
  },
  {
   "cell_type": "markdown",
   "id": "71049a36",
   "metadata": {},
   "source": [
    "### Liste et fonction"
   ]
  },
  {
   "cell_type": "markdown",
   "id": "dd88e485",
   "metadata": {},
   "source": [
    "La manipulation de liste dans des fonctions ne pose pas de problème mais il faut faire très attention"
   ]
  },
  {
   "cell_type": "markdown",
   "id": "1d501477",
   "metadata": {},
   "source": [
    "Prennons un petit exemple. "
   ]
  },
  {
   "cell_type": "markdown",
   "id": "7e94945a",
   "metadata": {},
   "source": [
    "Petit exemple. On définis une fonction qui prends un nombre et affecte 10 à ce nombre. On définis ensuite une valeur qu'on affiche avant et après l'appel de foo."
   ]
  },
  {
   "cell_type": "code",
   "execution_count": null,
   "id": "20455d37",
   "metadata": {},
   "outputs": [],
   "source": [
    "def foo(i):\n",
    "  i=10\n",
    "\n",
    "i = 0\n",
    "\n",
    "print(f\"i avant l'appel de foo : {i}\")\n",
    "\n",
    "foo(i)\n",
    "\n",
    "print(f\"i après l'appel de foo : {i}\")"
   ]
  },
  {
   "cell_type": "markdown",
   "id": "06f2ef43",
   "metadata": {},
   "source": [
    "Comme on pouvant s'y attendre, la valeur de i n'a pas changé"
   ]
  },
  {
   "cell_type": "markdown",
   "id": "ce4ab890",
   "metadata": {},
   "source": [
    "Maintenant, on fait la même chose mais avec une liste."
   ]
  },
  {
   "cell_type": "code",
   "execution_count": null,
   "id": "7b57a416",
   "metadata": {},
   "outputs": [],
   "source": [
    "def foo(l):\n",
    "  l[0] = 10\n",
    "\n",
    "l = [i for i in range(5)]\n",
    "\n",
    "print(f\"Liste avant l'appel de foo : {l}\")\n",
    "\n",
    "foo(l)\n",
    "\n",
    "print(f\"Liste après l'appel de foo : {l}\")"
   ]
  },
  {
   "cell_type": "markdown",
   "id": "6aa6e7f6",
   "metadata": {},
   "source": [
    "De manière très étrange, après l'appel de foo, l'élément 0 de la liste est passé à 10. Contrairement au premier exemple, la modification de la liste a l'intérieur de la fonction implique la modificationde la liste a l'extérieur de la fonction. On appel ça un **effet de bord**. Quand une fonction (ou un programme) modifie des zones mémoire auquelles le programme n'a normalement pas accés, il y a effet de bord. La fonction ```print``` à un effet de bord car elle vient modifier la zone de la RAM dédié à l'affichage."
   ]
  },
  {
   "cell_type": "markdown",
   "id": "cd049435",
   "metadata": {},
   "source": [
    "Pour comprendre ce phénomène, il faut comprendre la notion de **pointeur**."
   ]
  },
  {
   "cell_type": "code",
   "execution_count": null,
   "id": "e88fad3e",
   "metadata": {},
   "outputs": [],
   "source": [
    "def foo(l):\n",
    "  print(f\"Adresse de l dans la fonction : {hex(id(l))}\")\n",
    "  l[0] = 10\n",
    "\n",
    "l = [i for i in range(5)]\n",
    "\n",
    "print(f\"Adresse de l en dehors de la fonction : {hex(id(l))}\")\n",
    "\n",
    "foo(l)"
   ]
  },
  {
   "cell_type": "markdown",
   "id": "9d335504",
   "metadata": {},
   "source": [
    "Dans cet exemple, on affiche l'adresse mémoire à laquelle la liste est stocké. Comme on peut le voir, les adresse de là l'intérieur et à l'extérieur de la fonction sont identique.\n",
    "Voyons si c'est la même chose avec des entiers : "
   ]
  },
  {
   "cell_type": "code",
   "execution_count": null,
   "id": "4f93e0ad",
   "metadata": {},
   "outputs": [],
   "source": [
    "def foo(i):\n",
    "  print(f\"Adresse de l dans la fonction : {hex(id(i))}\")\n",
    "  i = 10\n",
    "\n",
    "i = 0\n",
    "\n",
    "print(f\"Adresse de l en dehors de la fonction : {hex(id(i))}\")\n",
    "\n",
    "foo(i)"
   ]
  },
  {
   "cell_type": "markdown",
   "id": "62a88f53",
   "metadata": {},
   "source": [
    "Etrangeement, c'est la même chose avec les int\n",
    "Contrairement au int, les liste sont **mutable**, la fonction va avoir le droit de modifier l'adresse mémoire. Les int sont **immutable**, la fonction ne va pas avoir le droit de mofifier la zone mémoire."
   ]
  },
  {
   "cell_type": "markdown",
   "id": "0bf62538",
   "metadata": {},
   "source": [
    "Pour empêcher ça, il faut faire une copie de la liste"
   ]
  },
  {
   "cell_type": "code",
   "execution_count": null,
   "id": "5184c8bf",
   "metadata": {},
   "outputs": [],
   "source": [
    "def foo(l):\n",
    "  l[0] = 10\n",
    "\n",
    "l = [i for i in range(5)]\n",
    "\n",
    "print(f\"Liste avant l'appel de foo : {l}\")\n",
    "\n",
    "foo(l.copy())\n",
    "\n",
    "print(f\"Liste après l'appel de foo : {l}\")"
   ]
  },
  {
   "cell_type": "markdown",
   "id": "e2f1d817",
   "metadata": {},
   "source": [
    "## Fonctions"
   ]
  },
  {
   "cell_type": "markdown",
   "id": "f96e72f1",
   "metadata": {},
   "source": [
    "Dans cette partie du cours, on va parler des fonctions d'ordre supérieur. Petit exemple"
   ]
  },
  {
   "cell_type": "code",
   "execution_count": null,
   "id": "bd16af7d",
   "metadata": {},
   "outputs": [],
   "source": [
    "def list_add(l):\n",
    "  sum = 0\n",
    "  for v in l:\n",
    "    sum += v\n",
    "  return sum\n",
    "\n",
    "def list_sub(l):\n",
    "  sub = 0\n",
    "  for v in l:\n",
    "    sub -= v\n",
    "  return sub\n",
    "\n",
    "def list_mult(l):\n",
    "  mult = 0\n",
    "  for v in l:\n",
    "    mult *= v\n",
    "  return mult"
   ]
  },
  {
   "cell_type": "markdown",
   "id": "b02e9a40",
   "metadata": {},
   "source": [
    "Dans cet exemple, on remarque que toutes les fonctions on la même structure mais avec une méthode un peu différente. Si on veut faire une nouvelle opération, on va devoir réécrire une fonction...encore. \n",
    "En informatique, la flemme dirige le monde donc soyons flemmard et créer une fonction d'orde supérieure"
   ]
  },
  {
   "cell_type": "code",
   "execution_count": null,
   "id": "878c6db6",
   "metadata": {},
   "outputs": [],
   "source": [
    "def list_op(l, op):\n",
    "  res = 0\n",
    "  for v in l:\n",
    "    res = op(res, v)\n",
    "  return res"
   ]
  },
  {
   "cell_type": "code",
   "execution_count": null,
   "id": "2148fb6d",
   "metadata": {},
   "outputs": [],
   "source": [
    "def addition(a, b):\n",
    "  return a+b"
   ]
  },
  {
   "cell_type": "code",
   "execution_count": null,
   "id": "b46edcf5",
   "metadata": {},
   "outputs": [],
   "source": [
    "l = [i for i in range(5)]\n",
    "l_sum = list_op(l, addition)\n",
    "print(l_sum)"
   ]
  },
  {
   "cell_type": "markdown",
   "id": "c93e2bf0",
   "metadata": {},
   "source": [
    "Dans cet example, ```list_op``` est une fonction d'ordre supérieur, c'est à dire une fonction qui prends comme argument une autre fonction. Si on veut faire une autre opérations, on définie une autre fonction que l'on donnera a notre fonction d'ordre supérieure "
   ]
  },
  {
   "cell_type": "code",
   "execution_count": null,
   "id": "541928b3",
   "metadata": {},
   "outputs": [],
   "source": [
    "def acc_pow(a, b):\n",
    "  return a+b**2"
   ]
  },
  {
   "cell_type": "code",
   "execution_count": null,
   "id": "b2621af5",
   "metadata": {},
   "outputs": [],
   "source": [
    "l = [i for i in range(1, 5)]\n",
    "l_sum = list_op(l, acc_pow)\n",
    "print(l_sum)"
   ]
  },
  {
   "cell_type": "markdown",
   "id": "5ced4e7b",
   "metadata": {},
   "source": [
    "## Dictionnaire"
   ]
  },
  {
   "cell_type": "markdown",
   "id": "e1544479",
   "metadata": {},
   "source": [
    "Dans cette partie du cours, on va rapidement parler des dictionnaires en python.\n",
    "Un dictionnaire est une structure de donnée similaire aux listes, mais au lieux que les données soit indexé avec des positions comme dans les listes, la méthode d'indexation des données est définis par le programmeur."
   ]
  },
  {
   "cell_type": "markdown",
   "id": "35576a6b",
   "metadata": {},
   "source": [
    "Le dictionnaire est définis avec des accolades ```{}```. Pour chaque valeur, on va ensuite définir sa clé, suivie de ```:``` puis la valeur associé a cette clé"
   ]
  },
  {
   "cell_type": "code",
   "execution_count": null,
   "id": "db014e0a",
   "metadata": {},
   "outputs": [],
   "source": [
    "dict = {\n",
    "  \"key1\" : 1,\n",
    "  \"key5\" : 2\n",
    "}"
   ]
  },
  {
   "cell_type": "markdown",
   "id": "5f7ca8df",
   "metadata": {},
   "source": [
    "Pour accédé a la valeur associé a la clé, on utilise la même notation que pour les listes"
   ]
  },
  {
   "cell_type": "code",
   "execution_count": null,
   "id": "c35bec6a",
   "metadata": {},
   "outputs": [],
   "source": [
    "print(dict[\"key1\"])"
   ]
  },
  {
   "cell_type": "markdown",
   "id": "55a71eec",
   "metadata": {},
   "source": [
    "Pour parcourir les valeurs d'un dictionnaire, on peut utilisé une boucle for"
   ]
  },
  {
   "cell_type": "code",
   "execution_count": null,
   "id": "aeed81c7",
   "metadata": {},
   "outputs": [],
   "source": [
    "for k in dict:\n",
    "  print(f\"key = {k}, value={dict[k]}\")"
   ]
  },
  {
   "cell_type": "markdown",
   "id": "c3cdd51b",
   "metadata": {},
   "source": [
    "Une vision de voir les dictionnaires (trompeuse mais ça fonctionne) c'est de les voir comme des listes très génériques."
   ]
  },
  {
   "cell_type": "markdown",
   "id": "bc90c97b",
   "metadata": {},
   "source": [
    "Pour ajouter une valeur au dictionnaire, on peut directement faire comme si on modifiais la valeur rattaché à la clé"
   ]
  },
  {
   "cell_type": "code",
   "execution_count": null,
   "id": "d0360eb9",
   "metadata": {},
   "outputs": [],
   "source": [
    "dict[\"key3\"] = 3"
   ]
  },
  {
   "cell_type": "code",
   "execution_count": null,
   "id": "222df61b",
   "metadata": {},
   "outputs": [],
   "source": [
    "for k in dict:\n",
    "  print(f\"key = {k}, value={dict[k]}\")"
   ]
  },
  {
   "cell_type": "markdown",
   "id": "123b4c02",
   "metadata": {},
   "source": [
    "Pour accédé aux clés du dictionnaire, on peut utilisé la méthode ```keys()```"
   ]
  },
  {
   "cell_type": "code",
   "execution_count": null,
   "id": "61c48026",
   "metadata": {},
   "outputs": [],
   "source": [
    "dict.keys()"
   ]
  },
  {
   "cell_type": "markdown",
   "id": "fbb86ac2",
   "metadata": {},
   "source": [
    "En pPython, on va utilisé les dictionnaire pour définir de petites structures de données et qui subiront des manipulations de données légères."
   ]
  },
  {
   "cell_type": "code",
   "execution_count": null,
   "id": "b3d04bce",
   "metadata": {},
   "outputs": [],
   "source": [
    "patient = {\n",
    "  \"Nom\" : \"Aurélie\",\n",
    "  \"Genre\" : \"Femme\",\n",
    "  \"Taille\" : 172,\n",
    "  \"Groupe Sanguin\" : 'O'\n",
    "}"
   ]
  },
  {
   "cell_type": "code",
   "execution_count": null,
   "id": "16e301f4",
   "metadata": {},
   "outputs": [],
   "source": [
    "print(patient)"
   ]
  },
  {
   "cell_type": "code",
   "execution_count": null,
   "id": "cb49d090",
   "metadata": {},
   "outputs": [],
   "source": [
    "patient[\"Groupe Sanguin\"] = \"A+\" # je crois j'en sais rien"
   ]
  },
  {
   "cell_type": "code",
   "execution_count": null,
   "id": "b6eb4a1a",
   "metadata": {},
   "outputs": [],
   "source": [
    "print(patient)"
   ]
  },
  {
   "cell_type": "code",
   "execution_count": null,
   "id": "128be296",
   "metadata": {},
   "outputs": [],
   "source": []
  }
 ],
 "metadata": {
  "kernelspec": {
   "display_name": "Python 3",
   "language": "python",
   "name": "python3"
  },
  "language_info": {
   "codemirror_mode": {
    "name": "ipython",
    "version": 3
   },
   "file_extension": ".py",
   "mimetype": "text/x-python",
   "name": "python",
   "nbconvert_exporter": "python",
   "pygments_lexer": "ipython3",
   "version": "3.10.12"
  }
 },
 "nbformat": 4,
 "nbformat_minor": 5
}
