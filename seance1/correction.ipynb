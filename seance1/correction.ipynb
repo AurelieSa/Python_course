{
 "cells": [
  {
   "cell_type": "markdown",
   "id": "9c8602c6",
   "metadata": {},
   "source": [
    "# Correction des exercices"
   ]
  },
  {
   "cell_type": "markdown",
   "id": "93c50caf",
   "metadata": {},
   "source": [
    "**Exercie n°1** : Calculer l'addition, la soustraction, la multiplication, le modulo et l'exponentiation entre 2 nombres saisis par l'utilisateur"
   ]
  },
  {
   "cell_type": "code",
   "execution_count": 1,
   "id": "bbf2c041",
   "metadata": {},
   "outputs": [
    {
     "name": "stdout",
     "output_type": "stream",
     "text": [
      "3.0 + 4.0 = 7.0\n",
      "3.0 - 4.0 = -1.0\n",
      "3.0 * 4.0 = 12.0\n",
      "3.0 % 4.0 = 3.0\n",
      "3.0 ** 4.0 = 81.0\n"
     ]
    }
   ],
   "source": [
    "a = float(input(\"Entrez la valeur de a : \"))\n",
    "b = float(input(\"Entrez la valeur de b : \"))\n",
    "\n",
    "addition = a+b\n",
    "soustraction = a-b\n",
    "multiplication = a*b\n",
    "modulo = a%b\n",
    "exponentiation = a**b\n",
    "\n",
    "def affichage(a, b, op, r):\n",
    "  print(f\"{a} {op} {b} = {r}\")\n",
    "\n",
    "affichage(a, b, '+', addition)\n",
    "affichage(a, b, '-', soustraction)\n",
    "affichage(a, b, '*', multiplication)\n",
    "affichage(a, b, '%', modulo)\n",
    "affichage(a, b, '**', exponentiation)"
   ]
  },
  {
   "cell_type": "markdown",
   "id": "d31ff3a9",
   "metadata": {},
   "source": [
    "**Exercice n°2** : Créer une fonction réalise l'exercice n°1"
   ]
  },
  {
   "cell_type": "code",
   "execution_count": 2,
   "id": "1b6f94d9",
   "metadata": {},
   "outputs": [],
   "source": [
    "def ex2():\n",
    "  a = float(input(\"Entrez la valeur de a : \"))\n",
    "  b = float(input(\"Entrez la valeur de b : \"))\n",
    "\n",
    "  addition = a+b\n",
    "  soustraction = a-b\n",
    "  multiplication = a*b\n",
    "  modulo = a%b\n",
    "  exponentiation = a**b\n",
    "\n",
    "  def affichage_local(a, b, op, r):     # oui on peut définir une fonction dans une fonction, celle ci ne sera disponible que a l'intérieur de cette fonction\n",
    "    print(f\"{a} {op} {b} = {r}\")\n",
    "\n",
    "  affichage_local(a, b, '+', addition)\n",
    "  affichage_local(a, b, '-', soustraction)\n",
    "  affichage_local(a, b, '*', multiplication)\n",
    "  affichage_local(a, b, '%', modulo)\n",
    "  affichage_local(a, b, '**', exponentiation)"
   ]
  },
  {
   "cell_type": "code",
   "execution_count": 3,
   "id": "b64da483",
   "metadata": {},
   "outputs": [
    {
     "name": "stdout",
     "output_type": "stream",
     "text": [
      "2.0 + 2.0 = 4.0\n",
      "2.0 - 2.0 = 0.0\n",
      "2.0 * 2.0 = 4.0\n",
      "2.0 % 2.0 = 0.0\n",
      "2.0 ** 2.0 = 4.0\n"
     ]
    }
   ],
   "source": [
    "ex2()"
   ]
  },
  {
   "cell_type": "code",
   "execution_count": 6,
   "id": "88b548ee",
   "metadata": {},
   "outputs": [
    {
     "ename": "NameError",
     "evalue": "name 'affichage_local' is not defined",
     "output_type": "error",
     "traceback": [
      "\u001b[0;31m---------------------------------------------------------------------------\u001b[0m",
      "\u001b[0;31mNameError\u001b[0m                                 Traceback (most recent call last)",
      "Cell \u001b[0;32mIn[6], line 1\u001b[0m\n\u001b[0;32m----> 1\u001b[0m \u001b[43maffichage_local\u001b[49m(\u001b[38;5;241m1\u001b[39m, \u001b[38;5;241m2\u001b[39m, \u001b[38;5;124m'\u001b[39m\u001b[38;5;124m+\u001b[39m\u001b[38;5;124m'\u001b[39m, \u001b[38;5;241m3\u001b[39m) \u001b[38;5;66;03m# affichage_local n'est définis que dans le corp de ex2\u001b[39;00m\n",
      "\u001b[0;31mNameError\u001b[0m: name 'affichage_local' is not defined"
     ]
    }
   ],
   "source": [
    "affichage_local(1, 2, '+', 3) # affichage_local n'est définis que dans le corp de ex2"
   ]
  },
  {
   "cell_type": "markdown",
   "id": "2290815c",
   "metadata": {},
   "source": [
    "**Exercice n°3** : Créer 2 fonctions odd et even qui retourne true si, respectivement, un nombre est pair ou impair"
   ]
  },
  {
   "cell_type": "code",
   "execution_count": 1,
   "id": "6b605122",
   "metadata": {},
   "outputs": [],
   "source": [
    "def even(x):\n",
    "  return x%2==0\n",
    "\n",
    "def odd(x):\n",
    "  return not even(x)"
   ]
  },
  {
   "cell_type": "code",
   "execution_count": 2,
   "id": "f524afc5",
   "metadata": {},
   "outputs": [
    {
     "name": "stdout",
     "output_type": "stream",
     "text": [
      "0 est paire : True, impaire False\n",
      "2 est paire : True, impaire False\n",
      "7 est paire : False, impaire True\n",
      "10 est paire : True, impaire False\n"
     ]
    }
   ],
   "source": [
    "print(f\"0 est paire : {even(0)}, impaire {odd(0)}\")\n",
    "print(f\"2 est paire : {even(2)}, impaire {odd(2)}\")\n",
    "print(f\"7 est paire : {even(7)}, impaire {odd(7)}\")\n",
    "print(f\"10 est paire : {even(10)}, impaire {odd(10)}\")"
   ]
  },
  {
   "cell_type": "markdown",
   "id": "7511bfe4",
   "metadata": {},
   "source": [
    "**Exercice n°4** : Créer une fonction qui calcul les racine d'un polynome de degrés 2"
   ]
  },
  {
   "cell_type": "code",
   "execution_count": 9,
   "id": "9303bf6b",
   "metadata": {},
   "outputs": [],
   "source": [
    "from math import sqrt"
   ]
  },
  {
   "cell_type": "code",
   "execution_count": 10,
   "id": "72a4fbfb",
   "metadata": {},
   "outputs": [],
   "source": [
    "def racine(a, b, c):\n",
    "  delta = b**2 - 4*a*c\n",
    "\n",
    "  if delta < 0: # racine imaginaire, on retourne rien\n",
    "    x1 = None\n",
    "    x2 = None\n",
    "  elif delta > 0:\n",
    "    x1 = (-b-sqrt(delta))/(2*a)\n",
    "    x2 = (-b+sqrt(delta))/(2*a)\n",
    "  else:\n",
    "    x1 = x2 = -b/(2*a)\n",
    "\n",
    "  return x1, x2"
   ]
  },
  {
   "cell_type": "code",
   "execution_count": 12,
   "id": "3230870f",
   "metadata": {},
   "outputs": [
    {
     "name": "stdout",
     "output_type": "stream",
     "text": [
      "Les racines de 1*x**2 + -3*x + 2 sont : (1.0, 2.0)\n"
     ]
    }
   ],
   "source": [
    "# Delta > 0\n",
    "a, b, c = 1, -3, 2\n",
    "print(f\"Les racines de {a}*x**2 + {b}*x + {c} sont : {racine(a, b, c)}\")"
   ]
  },
  {
   "cell_type": "code",
   "execution_count": 13,
   "id": "4e85b69b",
   "metadata": {},
   "outputs": [
    {
     "name": "stdout",
     "output_type": "stream",
     "text": [
      "Les racines de 1*x**2 + 2*x + 1 sont : (-1.0, -1.0)\n"
     ]
    }
   ],
   "source": [
    "# Delta = 0\n",
    "a, b, c = 1, 2, 1\n",
    "print(f\"Les racines de {a}*x**2 + {b}*x + {c} sont : {racine(a, b, c)}\")"
   ]
  },
  {
   "cell_type": "code",
   "execution_count": 14,
   "id": "d954adc1",
   "metadata": {},
   "outputs": [
    {
     "name": "stdout",
     "output_type": "stream",
     "text": [
      "Les racines de 1*x**2 + 2*x + 16 sont : (None, None)\n"
     ]
    }
   ],
   "source": [
    "# Delta < 0\n",
    "a, b, c = 1, 2, 16\n",
    "print(f\"Les racines de {a}*x**2 + {b}*x + {c} sont : {racine(a, b, c)}\")"
   ]
  },
  {
   "cell_type": "markdown",
   "id": "ff0ed266",
   "metadata": {},
   "source": [
    "# Projet"
   ]
  },
  {
   "cell_type": "markdown",
   "id": "680c5bef",
   "metadata": {},
   "source": [
    "On va créer une fonction qui va calculer la n iem valeur de la suite de fibonacci.\n",
    "Pour rappel, la suite de fibonacci est définis comme tel : F0=1, F1=1, Fn=Fn-1+Fn-2.\n",
    "\n",
    "Pour cela on va créer une **fonction reccursive**, autrement dit une fonction qui s'appelle elle même.\n",
    "2 conditions sont nécessaire pour créer une fonction récursives : \n",
    "- Condition d'arrêt : pour éviter de tourner indéfiniement il faut une conditions pour arrêter la reccursion et s'assurer qu'elle soit possible\n",
    "- Condition de réccursion : appellé la fonction de reccursion"
   ]
  },
  {
   "cell_type": "code",
   "execution_count": 15,
   "id": "3c120a83",
   "metadata": {},
   "outputs": [],
   "source": [
    "def fibonacci(n):\n",
    "  if n<=1:\n",
    "    return 1\n",
    "  else:\n",
    "    return fibonacci(n-1) + fibonacci(n-2)"
   ]
  },
  {
   "cell_type": "code",
   "execution_count": 16,
   "id": "668f953d",
   "metadata": {},
   "outputs": [
    {
     "name": "stdout",
     "output_type": "stream",
     "text": [
      "Fibo(5) = 8\n"
     ]
    }
   ],
   "source": [
    "print(f\"Fibo(5) = {fibonacci(5)}\")"
   ]
  },
  {
   "cell_type": "code",
   "execution_count": null,
   "id": "1c6b8547",
   "metadata": {},
   "outputs": [],
   "source": []
  }
 ],
 "metadata": {
  "kernelspec": {
   "display_name": "Python 3",
   "language": "python",
   "name": "python3"
  },
  "language_info": {
   "codemirror_mode": {
    "name": "ipython",
    "version": 3
   },
   "file_extension": ".py",
   "mimetype": "text/x-python",
   "name": "python",
   "nbconvert_exporter": "python",
   "pygments_lexer": "ipython3",
   "version": "3.10.12"
  }
 },
 "nbformat": 4,
 "nbformat_minor": 5
}
