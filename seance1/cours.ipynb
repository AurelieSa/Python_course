{
 "cells": [
  {
   "cell_type": "markdown",
   "id": "dd13a504",
   "metadata": {},
   "source": [
    "# Cours n° 1"
   ]
  },
  {
   "cell_type": "markdown",
   "id": "a1f863a4",
   "metadata": {},
   "source": [
    "**Objectifs**\n",
    "- Manipuler les fonctions d'entrées/sorties (print, input)\n",
    "- Base du calcul\n",
    "- Manipulation du flow d'excetution (structure conditionnelle if/else)"
   ]
  },
  {
   "cell_type": "markdown",
   "id": "8e77a8ef",
   "metadata": {},
   "source": [
    "# Fonction print"
   ]
  },
  {
   "cell_type": "markdown",
   "id": "d80e5e69",
   "metadata": {},
   "source": [
    "```print``` est une fonction de la librarie standard (pas besoin d'import) et permet d'afficher des lignes sur l'écran."
   ]
  },
  {
   "cell_type": "code",
   "execution_count": 1,
   "id": "68111ff2",
   "metadata": {},
   "outputs": [
    {
     "name": "stdout",
     "output_type": "stream",
     "text": [
      "Hello World!\n"
     ]
    }
   ],
   "source": [
    "# affichage d'une chaîne de charactère (string)\n",
    "print(\"Hello World!\")"
   ]
  },
  {
   "cell_type": "code",
   "execution_count": null,
   "id": "42829622",
   "metadata": {},
   "outputs": [
    {
     "name": "stdout",
     "output_type": "stream",
     "text": [
      "42\n",
      "3.14\n",
      "A\n",
      "[1, 2, 3]\n",
      "True\n"
     ]
    }
   ],
   "source": [
    "# on peut afficher d'autre chose\n",
    "print(42)  # affichage d'un entier (int)\n",
    "print(3.14) # affichage d'un nombre a virgule (float)\n",
    "print('A') # affichage d'un charatère (char)\n",
    "print([1, 2, 3]) # affichage d'une liste\n",
    "print(True) #affichage d'un booléen\n"
   ]
  },
  {
   "cell_type": "code",
   "execution_count": null,
   "id": "93e717b5",
   "metadata": {},
   "outputs": [
    {
     "name": "stdout",
     "output_type": "stream",
     "text": [
      "affichage d'un entier (int) : 42\n",
      "Affichage d'un nombre à virgule : 3.14\n",
      "Affichage d'un charatère (char) : A\n",
      "Affichage d'une liste (list) : [1, 2, 3]\n",
      "Affichage d'un booléen : True\n"
     ]
    }
   ],
   "source": [
    "# On peut formater l'affichage pour ajouter des indications\n",
    "print(f\"Affichage d'un entier (int) : {42}\")\n",
    "print(f\"Affichage d'un nombre à virgule : {3.14}\")\n",
    "print(f\"Affichage d'un charatère (char) : {'A'}\")\n",
    "print(f\"Affichage d'une liste (list) : {[1, 2, 3]}\")\n",
    "print(f\"Affichage d'un booléen : {True}\")"
   ]
  },
  {
   "cell_type": "markdown",
   "id": "c7997b23",
   "metadata": {},
   "source": [
    "/!\\ ATTENTION /!\\\\\n",
    "\n",
    "Si on veut afficher une string (chaine de charatères) a l'intérieure d'un format on doit faire attention"
   ]
  },
  {
   "cell_type": "code",
   "execution_count": 7,
   "id": "979992b4",
   "metadata": {},
   "outputs": [
    {
     "ename": "SyntaxError",
     "evalue": "f-string: expecting '}' (3257266468.py, line 1)",
     "output_type": "error",
     "traceback": [
      "\u001b[0;36m  Cell \u001b[0;32mIn[7], line 1\u001b[0;36m\u001b[0m\n\u001b[0;31m    print(f\"affichage d'une string : {\"coucou\"}\")\u001b[0m\n\u001b[0m                                       ^\u001b[0m\n\u001b[0;31mSyntaxError\u001b[0m\u001b[0;31m:\u001b[0m f-string: expecting '}'\n"
     ]
    }
   ],
   "source": [
    "print(f\"affichage d'une string : {\"coucou\"}\")"
   ]
  },
  {
   "cell_type": "markdown",
   "id": "3773906f",
   "metadata": {},
   "source": [
    "On a une erreur car Python n'arrive pas a délimiter la string qui est formater et la string entre {}\n",
    "Heureusement, en Python il y a différentes manières de définir une string"
   ]
  },
  {
   "cell_type": "code",
   "execution_count": 1,
   "id": "f1588350",
   "metadata": {},
   "outputs": [
    {
     "name": "stdout",
     "output_type": "stream",
     "text": [
      "Une string délimitée par ''<class 'str'>\n",
      "Une string délimitée par \"\" <class 'str'>\n",
      "Une string délimitée par \"\"\" \"\"\" <class 'str'>\n",
      "Ue string délimité par \"\" <class 'str'>\n"
     ]
    }
   ],
   "source": [
    "print(f\"Une string délimitée par ''{type('A')}\")\n",
    "print(f'Une string délimitée par \"\" {type(\"A\")}')\n",
    "print(f'Une string délimitée par \"\"\" \"\"\" {type(\"\"\"A\"\"\")}') # pas compatable avec \"\"\n",
    "print(f\"\"\"Ue string délimité par \"\" {type(\"A\")}\"\"\")"
   ]
  },
  {
   "cell_type": "code",
   "execution_count": 12,
   "id": "14e8f7e7",
   "metadata": {},
   "outputs": [
    {
     "name": "stdout",
     "output_type": "stream",
     "text": [
      "affichage d'une string : coucou\n"
     ]
    }
   ],
   "source": [
    "print(f\"affichage d'une string : {'coucou'}\")"
   ]
  },
  {
   "cell_type": "markdown",
   "id": "c9703aec",
   "metadata": {},
   "source": [
    "# Faire des calculs"
   ]
  },
  {
   "cell_type": "code",
   "execution_count": 21,
   "id": "3a4a4b8e",
   "metadata": {},
   "outputs": [
    {
     "name": "stdout",
     "output_type": "stream",
     "text": [
      "Addition : 5\n",
      "Soustraction : -1\n",
      "Addition MAIS en faite c'est une soustraction : -1\n",
      "Multiplication : 6\n",
      "Division : 0.6666666666666666\n",
      "Modulo (reste de la division euclidienne) : 1\n",
      "Exponentiation : 8\n"
     ]
    }
   ],
   "source": [
    "print(f\"Addition : {2+3}\")\n",
    "print(f\"Soustraction : {2-3}\")\n",
    "print(f\"Addition MAIS en faite c'est une soustraction : {2+-3}\")\n",
    "print(f\"Multiplication : {2*3}\")\n",
    "print(f\"Division : {2/3}\")\n",
    "print(f\"Modulo (reste de la division euclidienne) : {3%2}\") # 3 = 1*2 + 1 \n",
    "print(f\"Exponentiation : {2**3}\")"
   ]
  },
  {
   "cell_type": "markdown",
   "id": "18b2b66b",
   "metadata": {},
   "source": [
    "Faire des calcul c'est bien mais sauvegarder ses résultats c'est mieux!"
   ]
  },
  {
   "cell_type": "code",
   "execution_count": 22,
   "id": "2ebb23f5",
   "metadata": {},
   "outputs": [],
   "source": [
    "addition = 2+3\n",
    "soustraction = 2-3\n",
    "multiplication = 2*3\n",
    "division = 2/3\n",
    "modulo = 2%3\n",
    "exponentiation = 2**3"
   ]
  },
  {
   "cell_type": "code",
   "execution_count": 23,
   "id": "18f492d2",
   "metadata": {},
   "outputs": [
    {
     "name": "stdout",
     "output_type": "stream",
     "text": [
      "Addition : 5\n",
      "Soustraction : -1\n",
      "Multiplication : 6\n",
      "Division : 0.6666666666666666\n",
      "Modulo : 2\n",
      "Exponentiation : 8\n"
     ]
    }
   ],
   "source": [
    "print(f\"Addition : {addition}\")\n",
    "print(f\"Soustraction : {soustraction}\")\n",
    "print(f\"Multiplication : {multiplication}\")\n",
    "print(f\"Division : {division}\")\n",
    "print(f\"Modulo : {modulo}\")\n",
    "print(f\"Exponentiation : {exponentiation}\")"
   ]
  },
  {
   "cell_type": "markdown",
   "id": "e505a968",
   "metadata": {},
   "source": [
    "De la même manière, on peut faire des calculs entree variables"
   ]
  },
  {
   "cell_type": "code",
   "execution_count": null,
   "id": "9ae97a72",
   "metadata": {},
   "outputs": [
    {
     "name": "stdout",
     "output_type": "stream",
     "text": [
      "2*1*2 + 3*1 + 4 = 9\n",
      "2*0.2*2 + 3*0.2 + 4 = 4.68\n"
     ]
    }
   ],
   "source": [
    "# Paramètre du polynôme\n",
    "a = 2\n",
    "b = 3\n",
    "c = 4\n",
    "\n",
    "x1 = 1\n",
    "y1 = a*x1**2 + b*x1 + c\n",
    "\n",
    "print(f\"{a}*{x1}*2 + {b}*{x1} + {c} = {y1}\")\n",
    "\n",
    "x2 = 0.2\n",
    "y2 = a*x2**2 + b*x2 + c\n",
    "\n",
    "\n",
    "print(f\"{a}*{x2}*2 + {b}*{x2} + {c} = {y2}\")"
   ]
  },
  {
   "cell_type": "markdown",
   "id": "b76d0071",
   "metadata": {},
   "source": [
    "**/!\\ ATTENTION /!\\\\**\n",
    "\n",
    "Les calcul réaliser en virgule flottante ne sont pas exactes!"
   ]
  },
  {
   "cell_type": "code",
   "execution_count": 27,
   "id": "ad325be4",
   "metadata": {},
   "outputs": [
    {
     "name": "stdout",
     "output_type": "stream",
     "text": [
      "False\n"
     ]
    }
   ],
   "source": [
    "# dans cet example on définis une variable v qui théoriquement devrais être égale a 0.3, cependant on constate que si on test l'équalité v N'EST PAS égale a 0.3!\n",
    "v = 0.2+0.1\n",
    "print(v==0.3)"
   ]
  },
  {
   "cell_type": "code",
   "execution_count": 30,
   "id": "c8a827cc",
   "metadata": {},
   "outputs": [
    {
     "name": "stdout",
     "output_type": "stream",
     "text": [
      "0.30000000000000004\n"
     ]
    }
   ],
   "source": [
    "print(v) # Si on affiche v, on vois bien que ce n'est pas 0.3 car des erreurs du format float sont propagé pendant l'addition"
   ]
  },
  {
   "cell_type": "markdown",
   "id": "4c1aaa8c",
   "metadata": {},
   "source": [
    "En parlant d'équalité, parlons des opérateurs booléens\n",
    "\n",
    "Un opératuer booléen permet de répondre a une question fermée donc réponse oui (True) ou non (False)"
   ]
  },
  {
   "cell_type": "code",
   "execution_count": 44,
   "id": "e0a097b3",
   "metadata": {},
   "outputs": [
    {
     "name": "stdout",
     "output_type": "stream",
     "text": [
      "Equalité : \n",
      " - 2==3? : False \n",
      " - 2==2 True\n",
      "Différence : \n",
      " - 2!=3? True \n",
      " - 2!=2 False\n",
      "Supérieur : \n",
      " - 2>3? False \n",
      " - 2>2 False \n",
      " - 3>2 True\n",
      "Supérieur ou égale: \n",
      " - 2>=3? False \n",
      " - 2>2 True \n",
      " - 3>2 True\n",
      "Inférieur : \n",
      " - 2<3? True \n",
      " - 2<2 False \n",
      " - 3>2 False\n",
      "Inférieur ou égale : \n",
      " - 2<=3? True \n",
      " - 2<=2 True \n",
      " - 3<=2 False\n"
     ]
    }
   ],
   "source": [
    "print(f\"Equalité : \\n - 2==3? : {2==3} \\n - 2==2 {2==2}\")\n",
    "print(f\"Différence : \\n - 2!=3? {2!=3} \\n - 2!=2 {2!=2}\")\n",
    "print(f\"Supérieur : \\n - 2>3? {2>3} \\n - 2>2 {2>2} \\n - 3>2 {3>2}\")\n",
    "print(f\"Supérieur ou égale: \\n - 2>=3? {2>=3} \\n - 2>2 {2>=2} \\n - 3>2 {3>=2}\")\n",
    "print(f\"Inférieur : \\n - 2<3? {2<3} \\n - 2<2 {2<2} \\n - 3>2 {3<2}\")\n",
    "print(f\"Inférieur ou égale : \\n - 2<=3? {2<=3} \\n - 2<=2 {2<=2} \\n - 3<=2 {3<=2}\")"
   ]
  },
  {
   "cell_type": "markdown",
   "id": "837a9ba2",
   "metadata": {},
   "source": [
    "On peut aussi combiner les booléen grâce a des opérateurs combinatoires"
   ]
  },
  {
   "cell_type": "code",
   "execution_count": 47,
   "id": "a1f5800e",
   "metadata": {},
   "outputs": [
    {
     "name": "stdout",
     "output_type": "stream",
     "text": [
      "False and False = False\n",
      "False and True = False\n",
      "True and False = False\n",
      "True and True = True\n"
     ]
    }
   ],
   "source": [
    "# opérateur and, retourne True si les 2 expressions sont True\n",
    "print(f\"False and False = {False and False}\")\n",
    "print(f\"False and True = {False and True}\")\n",
    "print(f\"True and False = {True and False}\")\n",
    "print(f\"True and True = {True and True}\")"
   ]
  },
  {
   "cell_type": "code",
   "execution_count": 48,
   "id": "f25bf23a",
   "metadata": {},
   "outputs": [
    {
     "name": "stdout",
     "output_type": "stream",
     "text": [
      "False or False = False\n",
      "False or True = True\n",
      "True or False = True\n",
      "True or True = True\n"
     ]
    }
   ],
   "source": [
    "# opérateur or, retourne True si l'une des 2 expressions est True\n",
    "print(f\"False or False = {False or False}\")\n",
    "print(f\"False or True = {False or True}\")\n",
    "print(f\"True or False = {True or False}\")\n",
    "print(f\"True or True = {True or True}\")"
   ]
  },
  {
   "cell_type": "code",
   "execution_count": 49,
   "id": "2cd0595f",
   "metadata": {},
   "outputs": [
    {
     "name": "stdout",
     "output_type": "stream",
     "text": [
      "Est-ce que 2 est comrpis entre 1 et 3? True\n"
     ]
    }
   ],
   "source": [
    "# combinaison\n",
    "print(f\"Est-ce que 2 est comrpis entre 1 et 3? {2>1 and 2<3}\")"
   ]
  },
  {
   "cell_type": "markdown",
   "id": "95c9277f",
   "metadata": {},
   "source": [
    "# Contrôle du flux d'execution"
   ]
  },
  {
   "cell_type": "markdown",
   "id": "8223d03e",
   "metadata": {},
   "source": [
    "Dans certaines situation, on aimerai executé du code uniquement si certaines conditions sont respectées, on parle alors de **contrôle du flux d'execution**. Pour contrôler ce flux, on dispose de plusieurs mots clés. "
   ]
  },
  {
   "cell_type": "code",
   "execution_count": 1,
   "id": "5858bcbb",
   "metadata": {},
   "outputs": [],
   "source": [
    "x = 1"
   ]
  },
  {
   "cell_type": "code",
   "execution_count": 2,
   "id": "7616af3c",
   "metadata": {},
   "outputs": [
    {
     "name": "stdout",
     "output_type": "stream",
     "text": [
      "x >= 1\n"
     ]
    }
   ],
   "source": [
    "if x>=1:\n",
    "  print(\"x >= 1\")"
   ]
  },
  {
   "cell_type": "code",
   "execution_count": 3,
   "id": "0e4aa609",
   "metadata": {},
   "outputs": [],
   "source": [
    "if x < 1:\n",
    "  print(\"x < 1\")"
   ]
  },
  {
   "cell_type": "markdown",
   "id": "ca66ad34",
   "metadata": {},
   "source": [
    "Le mot clé **if** permet d'exe un code si la condition est respectée. La ligne du **if** se termine par ```:``` et le code a exécuter est délimité par un niveau de tabulation."
   ]
  },
  {
   "cell_type": "code",
   "execution_count": null,
   "id": "5eda906a",
   "metadata": {},
   "outputs": [
    {
     "name": "stdout",
     "output_type": "stream",
     "text": [
      "ce code s'execute uniquement si x==1\n",
      "ce code s'execute tout le temps\n",
      "ce code s'execute tout le temps\n"
     ]
    }
   ],
   "source": [
    "if x==1:\n",
    "  print(\"ce code s'execute uniquement si x==1\")\n",
    "print(\"ce code s'execute tout le temps\")\n",
    "\n"
   ]
  },
  {
   "cell_type": "code",
   "execution_count": null,
   "id": "6851417e",
   "metadata": {},
   "outputs": [
    {
     "name": "stdout",
     "output_type": "stream",
     "text": [
      "ce code s'execute tout le temps\n"
     ]
    }
   ],
   "source": [
    "if x!=1:\n",
    "  print(\"ce code s'execute uniquement si x!=1\")\n",
    "print(\"ce code s'execute tout le temps\")"
   ]
  },
  {
   "cell_type": "markdown",
   "id": "24f5c89a",
   "metadata": {},
   "source": [
    "Comme pour les autre opérateurs booélen, les conditions peuvent être combiner entre elles"
   ]
  },
  {
   "cell_type": "code",
   "execution_count": 7,
   "id": "04d6f96f",
   "metadata": {},
   "outputs": [
    {
     "name": "stdout",
     "output_type": "stream",
     "text": [
      "x est compris dans l'intervalle [1; 2[\n"
     ]
    }
   ],
   "source": [
    "if x>=1 and x<2:\n",
    "  print(\"x est compris dans l'intervalle [1; 2[\")"
   ]
  },
  {
   "cell_type": "markdown",
   "id": "45549223",
   "metadata": {},
   "source": [
    "On peut aussi vouloir executer un code supplémentaire si la condition n'est pas respectée, on utilise alors le mot clé **else**"
   ]
  },
  {
   "cell_type": "code",
   "execution_count": 9,
   "id": "ede56c9f",
   "metadata": {},
   "outputs": [
    {
     "name": "stdout",
     "output_type": "stream",
     "text": [
      "x>=1\n"
     ]
    }
   ],
   "source": [
    "if x<1:\n",
    "  print(\"x<1\")\n",
    "else: # pas de condition dans le else étant donné que c'est le cas par défaut si le if n'est pas respecté\n",
    "  print(\"x>=1\")"
   ]
  },
  {
   "cell_type": "markdown",
   "id": "55735f6c",
   "metadata": {},
   "source": [
    "Si on veut executer plusieurs bloc de code suivant plusieurs conditions on peut utilisé le mot clé **elif**"
   ]
  },
  {
   "cell_type": "code",
   "execution_count": 10,
   "id": "9694fef0",
   "metadata": {},
   "outputs": [
    {
     "name": "stdout",
     "output_type": "stream",
     "text": [
      "x==1\n"
     ]
    }
   ],
   "source": [
    "if x<1:\n",
    "  print(\"x<1\")\n",
    "elif x==1:\n",
    "  print(\"x==1\")\n",
    "else:\n",
    "  print(\"x>1\")"
   ]
  },
  {
   "cell_type": "markdown",
   "id": "cb7e874e",
   "metadata": {},
   "source": [
    "Les structures conditionnelles peuvent s'imbriquée mais il faut bien faire attention au niveau d'indentation"
   ]
  },
  {
   "cell_type": "code",
   "execution_count": 12,
   "id": "0fefff6e",
   "metadata": {},
   "outputs": [
    {
     "name": "stdout",
     "output_type": "stream",
     "text": [
      "x==1 et y==2\n"
     ]
    }
   ],
   "source": [
    "y = 2\n",
    "\n",
    "if x<=1:\n",
    "  if x==1 and y!=2:\n",
    "    print(\"x==1 et y!=2\")\n",
    "  elif x==1 and y==2:\n",
    "    print(\"x==1 et y==2\")\n",
    "  else:\n",
    "    print(\"X est différent de 1\")\n",
    "else:\n",
    "  print(\"x > 1\")"
   ]
  },
  {
   "cell_type": "markdown",
   "id": "e445440c",
   "metadata": {},
   "source": [
    "# Fonctions"
   ]
  },
  {
   "cell_type": "markdown",
   "id": "e6876c3a",
   "metadata": {},
   "source": [
    "Reprenons l'exemple du polynôme précédent et calcul plus de valeures"
   ]
  },
  {
   "cell_type": "code",
   "execution_count": 32,
   "id": "6da8d08a",
   "metadata": {},
   "outputs": [
    {
     "name": "stdout",
     "output_type": "stream",
     "text": [
      "2*0.1*2 + 3*0.1 + 4 = 4.32\n",
      "2*0.2*2 + 3*0.2 + 4 = 4.68\n",
      "2*0.3*2 + 3*0.3 + 4 = 5.08\n",
      "2*0.4*2 + 3*0.4 + 4 = 5.5200000000000005\n"
     ]
    }
   ],
   "source": [
    "# Paramètre du polynôme\n",
    "a = 2\n",
    "b = 3\n",
    "c = 4\n",
    "\n",
    "x1 = 0.1\n",
    "y1 = a*x1**2 + b*x1 + c\n",
    "print(f\"{a}*{x1}*2 + {b}*{x1} + {c} = {y1}\")\n",
    "\n",
    "x2 = 0.2\n",
    "y2 = a*x2**2 + b*x2 + c\n",
    "print(f\"{a}*{x2}*2 + {b}*{x2} + {c} = {y2}\")\n",
    "\n",
    "x3 = 0.3\n",
    "y3 = a*x3**2 + b*x3 + c\n",
    "print(f\"{a}*{x3}*2 + {b}*{x3} + {c} = {y3}\")\n",
    "\n",
    "x4 = 0.4\n",
    "y4 = a*x4**2 + b*x4 + c\n",
    "print(f\"{a}*{x4}*2 + {b}*{x4} + {c} = {y4}\")"
   ]
  },
  {
   "cell_type": "markdown",
   "id": "efa5942c",
   "metadata": {},
   "source": [
    "C'est vraiment pénible!\n",
    "\n",
    "Quand un code est réutilisé, on peut le mettre dans une fonction qui est écrite une fois et qui va pouvoir être utilisée plusieurs fois"
   ]
  },
  {
   "cell_type": "code",
   "execution_count": 33,
   "id": "61a5ed3a",
   "metadata": {},
   "outputs": [],
   "source": [
    "def polynome(x):\n",
    "  a = 2\n",
    "  b = 3\n",
    "  c = 4\n",
    "\n",
    "  y = a*x**2 + b*x + c\n",
    "\n",
    "  print(f\"{a}*{x}*2 + {b}*{x} + {c} = {y}\")"
   ]
  },
  {
   "cell_type": "markdown",
   "id": "d1943563",
   "metadata": {},
   "source": [
    "Une fonction est définis par : \n",
    "\n",
    "- Le mot clé ```def```\n",
    "\n",
    "- Ensuite le nom de la fonction\n",
    "\n",
    "- Entre parenthèse les **arguments** de la fonction : des variables externes qu'on va donnée a la fonction \n",
    "\n",
    "- Le corps de la fonction **délimité par un niveau de tabulation**"
   ]
  },
  {
   "cell_type": "code",
   "execution_count": 35,
   "id": "0e34c94b",
   "metadata": {},
   "outputs": [
    {
     "name": "stdout",
     "output_type": "stream",
     "text": [
      "2*0.1*2 + 3*0.1 + 4 = 4.32\n",
      "2*0.2*2 + 3*0.2 + 4 = 4.68\n",
      "2*0.3*2 + 3*0.3 + 4 = 5.08\n",
      "2*0.4*2 + 3*0.4 + 4 = 5.5200000000000005\n"
     ]
    }
   ],
   "source": [
    "polynome(0.1)\n",
    "polynome(0.2)\n",
    "polynome(0.3)\n",
    "polynome(0.4)"
   ]
  },
  {
   "cell_type": "markdown",
   "id": "a4291461",
   "metadata": {},
   "source": [
    "**Ce qui est définis dans une fonction reste dans la fonction**\n",
    "\n",
    "On appelle ça la porté des variables"
   ]
  },
  {
   "cell_type": "code",
   "execution_count": 38,
   "id": "7b2eab94",
   "metadata": {},
   "outputs": [],
   "source": [
    "def foo(): #fonction nommé foo sans arguments\n",
    "  goo = 1"
   ]
  },
  {
   "cell_type": "code",
   "execution_count": 40,
   "id": "8a11528e",
   "metadata": {},
   "outputs": [
    {
     "ename": "NameError",
     "evalue": "name 'goo' is not defined",
     "output_type": "error",
     "traceback": [
      "\u001b[0;31m---------------------------------------------------------------------------\u001b[0m",
      "\u001b[0;31mNameError\u001b[0m                                 Traceback (most recent call last)",
      "Cell \u001b[0;32mIn[40], line 1\u001b[0m\n\u001b[0;32m----> 1\u001b[0m \u001b[38;5;28mprint\u001b[39m(\u001b[43mgoo\u001b[49m) \u001b[38;5;66;03m# goo n'est pas définis!\u001b[39;00m\n",
      "\u001b[0;31mNameError\u001b[0m: name 'goo' is not defined"
     ]
    }
   ],
   "source": [
    "print(goo) # goo n'est pas définis!"
   ]
  },
  {
   "cell_type": "code",
   "execution_count": 42,
   "id": "97ee85d2",
   "metadata": {},
   "outputs": [
    {
     "ename": "NameError",
     "evalue": "name 'goo' is not defined",
     "output_type": "error",
     "traceback": [
      "\u001b[0;31m---------------------------------------------------------------------------\u001b[0m",
      "\u001b[0;31mNameError\u001b[0m                                 Traceback (most recent call last)",
      "Cell \u001b[0;32mIn[42], line 2\u001b[0m\n\u001b[1;32m      1\u001b[0m foo()\n\u001b[0;32m----> 2\u001b[0m \u001b[38;5;28mprint\u001b[39m(\u001b[43mgoo\u001b[49m) \u001b[38;5;66;03m# même en appellant foo avant, goo n'est toujours pas définis\u001b[39;00m\n",
      "\u001b[0;31mNameError\u001b[0m: name 'goo' is not defined"
     ]
    }
   ],
   "source": [
    "foo()\n",
    "print(goo) # même en appellant foo avant, goo n'est toujours pas définis"
   ]
  },
  {
   "cell_type": "markdown",
   "id": "199134c7",
   "metadata": {},
   "source": [
    "On a vue les fonctions avec et sans arguments, une fonction peut aussi retourner une valeur "
   ]
  },
  {
   "cell_type": "code",
   "execution_count": 50,
   "id": "e308aad6",
   "metadata": {},
   "outputs": [],
   "source": [
    "def polynome_ret(x):\n",
    "  a = 2\n",
    "  b = 3\n",
    "  c = 4\n",
    "\n",
    "  y = a*x**2 + b*x + c\n",
    "\n",
    "  return y # pour retourner une valeur, il faut utilisé return"
   ]
  },
  {
   "cell_type": "code",
   "execution_count": 51,
   "id": "a5e65430",
   "metadata": {},
   "outputs": [
    {
     "name": "stdout",
     "output_type": "stream",
     "text": [
      "valeur retournée par la fonction : 9\n"
     ]
    }
   ],
   "source": [
    "print(f\"valeur retournée par la fonction : {polynome_ret(1)}\")"
   ]
  },
  {
   "cell_type": "code",
   "execution_count": 54,
   "id": "f5727a77",
   "metadata": {},
   "outputs": [],
   "source": [
    "# On peut aussi retourner plusieurs valeurs\n",
    "def polynome_ret2(x1, x2):\n",
    "  a = 2\n",
    "  b = 3\n",
    "  c = 4\n",
    "\n",
    "  y1 = a*x1**2 + b*x1 + c\n",
    "  y2 = a*x2**2 + b*x2 + c\n",
    "\n",
    "  return y1, y2"
   ]
  },
  {
   "cell_type": "code",
   "execution_count": 56,
   "id": "9ac45c80",
   "metadata": {},
   "outputs": [
    {
     "name": "stdout",
     "output_type": "stream",
     "text": [
      "valeurs retournées par la fonction : (9, 18)\n"
     ]
    }
   ],
   "source": [
    "print(f\"valeurs retournées par la fonction : {polynome_ret2(1, 2)}\")"
   ]
  },
  {
   "cell_type": "markdown",
   "id": "d8669af0",
   "metadata": {},
   "source": [
    "# Fonction Input"
   ]
  },
  {
   "cell_type": "markdown",
   "id": "527a60dd",
   "metadata": {},
   "source": [
    "Pour saisir des valeurs on peut utilisé la fonction input"
   ]
  },
  {
   "cell_type": "code",
   "execution_count": 57,
   "id": "9d6cc322",
   "metadata": {},
   "outputs": [
    {
     "name": "stdout",
     "output_type": "stream",
     "text": [
      "La valeur saisie est : 4\n"
     ]
    }
   ],
   "source": [
    "val = input(\"Saisir un nombre : \")\n",
    "print(f\"La valeur saisie est : {val}\")"
   ]
  },
  {
   "cell_type": "markdown",
   "id": "a726e9ad",
   "metadata": {},
   "source": [
    "**/!\\ ATTENTION /!\\\\**\n",
    "\n",
    "Ce n'est pas parce qu'on saisi un nombre que la valeur retournée est un nombre"
   ]
  },
  {
   "cell_type": "code",
   "execution_count": 58,
   "id": "8ed09fec",
   "metadata": {},
   "outputs": [
    {
     "name": "stdout",
     "output_type": "stream",
     "text": [
      "<class 'str'>\n"
     ]
    }
   ],
   "source": [
    "print(type(val))"
   ]
  },
  {
   "cell_type": "markdown",
   "id": "6cf1b6b9",
   "metadata": {},
   "source": [
    "Pour convertir la saisie en nombre on peut utilisé la fonction eval"
   ]
  },
  {
   "cell_type": "code",
   "execution_count": 59,
   "id": "0f2cccbc",
   "metadata": {},
   "outputs": [
    {
     "name": "stdout",
     "output_type": "stream",
     "text": [
      "La valeur saisie est : 5\n",
      "Type de val : <class 'int'>\n"
     ]
    }
   ],
   "source": [
    "val = eval(input(\"Saisir un nombre : \"))\n",
    "print(f\"La valeur saisie est : {val}\")\n",
    "print(f\"Type de val : {type(val)}\")"
   ]
  },
  {
   "cell_type": "markdown",
   "id": "367bad91",
   "metadata": {},
   "source": [
    "Eval convertit tout et n'importe, si on saisie un nombre a virgule alors"
   ]
  },
  {
   "cell_type": "code",
   "execution_count": 60,
   "id": "916a888d",
   "metadata": {},
   "outputs": [
    {
     "name": "stdout",
     "output_type": "stream",
     "text": [
      "La valeur saisie est : 1.2\n",
      "Type de val : <class 'float'>\n"
     ]
    }
   ],
   "source": [
    "val = eval(input(\"Saisir un nombre : \"))\n",
    "print(f\"La valeur saisie est : {val}\")\n",
    "print(f\"Type de val : {type(val)}\")"
   ]
  },
  {
   "cell_type": "markdown",
   "id": "26b7af26",
   "metadata": {},
   "source": [
    "Pour un cast (conversion) plus précis, on peut utilisé les fonction int() ou float()"
   ]
  },
  {
   "cell_type": "code",
   "execution_count": 62,
   "id": "39f18773",
   "metadata": {},
   "outputs": [
    {
     "name": "stdout",
     "output_type": "stream",
     "text": [
      "La valeur saisie est : 1\n",
      "Type de val : <class 'int'>\n"
     ]
    }
   ],
   "source": [
    "val = int(input(\"Saisir un nombre : \"))\n",
    "print(f\"La valeur saisie est : {val}\")\n",
    "print(f\"Type de val : {type(val)}\")"
   ]
  },
  {
   "cell_type": "code",
   "execution_count": 63,
   "id": "cb650616",
   "metadata": {},
   "outputs": [
    {
     "name": "stdout",
     "output_type": "stream",
     "text": [
      "La valeur saisie est : 1.2\n",
      "Type de val : <class 'float'>\n"
     ]
    }
   ],
   "source": [
    "val = float(input(\"Saisir un nombre : \"))\n",
    "print(f\"La valeur saisie est : {val}\")\n",
    "print(f\"Type de val : {type(val)}\")"
   ]
  },
  {
   "cell_type": "markdown",
   "id": "402c9052",
   "metadata": {},
   "source": [
    "# Exercices"
   ]
  },
  {
   "cell_type": "markdown",
   "id": "1a7ed563",
   "metadata": {},
   "source": [
    "**Exercie n°1** : Calculer l'addition, la soustraction, la multiplication, le modulo et l'exponentiation entre 2 nombres saisis par l'utilisateur"
   ]
  },
  {
   "cell_type": "markdown",
   "id": "93eca98e",
   "metadata": {},
   "source": [
    "**Exercice n°2** : Créer une fonction réalise l'exercice n°1"
   ]
  },
  {
   "cell_type": "markdown",
   "id": "591c8e23",
   "metadata": {},
   "source": [
    "**Exercice n°3** : Créer 2 fonctions odd et even qui retourne true si, respectivement, un nombre est pair ou impair"
   ]
  },
  {
   "cell_type": "markdown",
   "id": "91cdf840",
   "metadata": {},
   "source": [
    "**Exercice n°4** : Créer une fonction qui calcul les racine d'un polynome de degrés 2 (il faut importer sqrt depuis la librairie math ```from math import sqrt```)"
   ]
  },
  {
   "cell_type": "markdown",
   "id": "b5755706",
   "metadata": {},
   "source": [
    "# Projet"
   ]
  },
  {
   "cell_type": "markdown",
   "id": "40c95702",
   "metadata": {},
   "source": [
    "On va créer une fonction qui va calculer la n iem valeur de la suite de fibonacci.\n",
    "Pour rappel, la suite de fibonacci est définis comme tel : F0=1, F1=1, Fn=Fn-1+Fn-2.\n",
    "\n",
    "Pour cela on va créer une **fonction reccursive**, autrement dit une fonction qui s'appelle elle même.\n",
    "2 conditions sont nécessaire pour créer une fonction récursives : \n",
    "- Condition d'arrêt : pour éviter de tourner indéfiniement il faut une conditions pour arrêter la reccursion et s'assurer qu'elle soit possible\n",
    "- Condition de réccursion : appellé la fonction de reccursion"
   ]
  },
  {
   "cell_type": "code",
   "execution_count": null,
   "id": "63178df7",
   "metadata": {},
   "outputs": [],
   "source": []
  }
 ],
 "metadata": {
  "kernelspec": {
   "display_name": "Python 3",
   "language": "python",
   "name": "python3"
  },
  "language_info": {
   "codemirror_mode": {
    "name": "ipython",
    "version": 3
   },
   "file_extension": ".py",
   "mimetype": "text/x-python",
   "name": "python",
   "nbconvert_exporter": "python",
   "pygments_lexer": "ipython3",
   "version": "3.10.12"
  }
 },
 "nbformat": 4,
 "nbformat_minor": 5
}
